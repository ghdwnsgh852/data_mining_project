{
 "cells": [
  {
   "cell_type": "markdown",
   "id": "cd800c4d",
   "metadata": {},
   "source": [
    "# 데이터 설명\n"
   ]
  },
  {
   "cell_type": "markdown",
   "id": "188e1339",
   "metadata": {},
   "source": [
    "국가 통계 마이크로센터 보건 급성심장정지조사\n",
    "https://mdis.kostat.go.kr/extract/extYearsSurvSearchNew.do?curMenuNo=UI_POR_P9012"
   ]
  },
  {
   "cell_type": "code",
   "execution_count": 1,
   "id": "94914a41",
   "metadata": {},
   "outputs": [],
   "source": [
    "import pandas as pd\n",
    "import numpy as np\n",
    "import warnings\n",
    "warnings.filterwarnings(action='ignore') \n"
   ]
  },
  {
   "cell_type": "code",
   "execution_count": 2,
   "id": "7426ee21",
   "metadata": {},
   "outputs": [],
   "source": [
    "data=pd.read_csv('data.csv')"
   ]
  },
  {
   "cell_type": "code",
   "execution_count": 3,
   "id": "2bd9feb7",
   "metadata": {},
   "outputs": [],
   "source": [
    "data.columns=['성별','연령(만 나이)','병원 도착 전 심폐소생술 시행 여부','병원 도착 전 자발순환 회복 여부','병원 도착 전 급성심장정지 목격 여부','급성심장정지 목격시각','일반인 심폐소생술 시행여부','병원 도착 전 제세동 실시 여부','과거력_고혈압','과거력_당뇨병','과거력_심장질환','과거력_만성신장질환','과거력_호흡기질환','과거력_뇌졸중','과거력_이상지질혈증','음주력','흡연력','응급실 심폐소생술 후 자발순환 회복 여부','119 신고 시각','구급대 자동심장충격기 시행 여부','구급차 도착 전 응급처치 지도','응급실 진료결과','심장정지 발생시각','병원 도착시각']"
   ]
  },
  {
   "cell_type": "markdown",
   "id": "66195e0e",
   "metadata": {},
   "source": [
    "# 데이터 전처리 \n",
    "\n",
    "### 1. 시각 데이터 전처리\n",
    "### 2. Duplicate 값 제거\n",
    "### 3. Nan값은 제거"
   ]
  },
  {
   "cell_type": "code",
   "execution_count": 4,
   "id": "facfa0c7",
   "metadata": {},
   "outputs": [],
   "source": [
    "data=data.drop(['병원 도착 전 심폐소생술 시행 여부','병원 도착 전 급성심장정지 목격 여부','일반인 심폐소생술 시행여부','과거력_이상지질혈증','과거력_호흡기질환','음주력','과거력_만성신장질환','과거력_뇌졸중','병원 도착 전 제세동 실시 여부','과거력_고혈압','과거력_당뇨병','과거력_심장질환'],axis=1)\n"
   ]
  },
  {
   "cell_type": "code",
   "execution_count": 5,
   "id": "6903ba3a",
   "metadata": {},
   "outputs": [
    {
     "name": "stdout",
     "output_type": "stream",
     "text": [
      "['성별', '연령(만 나이)', '병원 도착 전 자발순환 회복 여부', '급성심장정지 목격시각', '흡연력', '응급실 심폐소생술 후 자발순환 회복 여부', '119 신고 시각', '구급대 자동심장충격기 시행 여부', '구급차 도착 전 응급처치 지도', '응급실 진료결과', '심장정지 발생시각', '병원 도착시각']\n"
     ]
    }
   ],
   "source": [
    "print(list(data.columns))"
   ]
  },
  {
   "cell_type": "markdown",
   "id": "645da714",
   "metadata": {},
   "source": [
    "위의 속성을 이용해 응급실 진료결과(사망, 생존)를 예측하겠습니다."
   ]
  },
  {
   "cell_type": "code",
   "execution_count": 6,
   "id": "24818209",
   "metadata": {},
   "outputs": [
    {
     "data": {
      "text/plain": [
       "(30179, 12)"
      ]
     },
     "execution_count": 6,
     "metadata": {},
     "output_type": "execute_result"
    }
   ],
   "source": [
    "data.shape"
   ]
  },
  {
   "cell_type": "code",
   "execution_count": 7,
   "id": "6df76191",
   "metadata": {},
   "outputs": [],
   "source": [
    "data.loc[data.loc[:,'병원 도착 전 자발순환 회복 여부']==9,'병원 도착 전 자발순환 회복 여부']=np.NaN\n",
    "data.loc[data.loc[:,'흡연력']==9,'흡연력']=np.NaN\n",
    "data.loc[data.loc[:,'응급실 심폐소생술 후 자발순환 회복 여부']==9,'응급실 심폐소생술 후 자발순환 회복 여부']=np.NaN\n",
    "data.loc[data.loc[:,'구급대 자동심장충격기 시행 여부']==9,'구급대 자동심장충격기 시행 여부']=np.NaN\n",
    "data.loc[data.loc[:,'구급차 도착 전 응급처치 지도']==1,'구급차 도착 전 응급처치 지도']='없음'\n",
    "data.loc[data.loc[:,'구급차 도착 전 응급처치 지도']==2,'구급차 도착 전 응급처치 지도']='있음'\n",
    "data.loc[data.loc[:,'구급차 도착 전 응급처치 지도']==3,'구급차 도착 전 응급처치 지도']='있음'\n",
    "data.loc[data.loc[:,'구급차 도착 전 응급처치 지도']==8,'구급차 도착 전 응급처치 지도']='있음'\n",
    "data.loc[data.loc[:,'성별']==1,'성별']='남자'\n",
    "data.loc[data.loc[:,'성별']==2,'성별']='여자'\n",
    "data.loc[data.loc[:,'응급실 진료결과']<40,'응급실 진료결과']=1\n",
    "data.loc[data.loc[:,'응급실 진료결과']>=40,'응급실 진료결과']=0\n",
    "data.loc[data.loc[:,'응급실 진료결과']==0,'응급실 진료결과']='death'\n",
    "data.loc[data.loc[:,'응급실 진료결과']==1,'응급실 진료결과']='alive'\n",
    "data.loc[data.loc[:,'흡연력']==2,'흡연력']='과거흡연'\n",
    "data.loc[data.loc[:,'흡연력']==1,'흡연력']='현재흡연'\n",
    "data.loc[data.loc[:,'흡연력']==8,'흡연력']='없음'\n",
    "data.loc[data.loc[:,'구급대 자동심장충격기 시행 여부']==1,'구급대 자동심장충격기 시행 여부']='시행하지 않음'\n",
    "data.loc[data.loc[:,'구급대 자동심장충격기 시행 여부']==2,'구급대 자동심장충격기 시행 여부']='시행함'\n",
    "data.loc[data.loc[:,'응급실 심폐소생술 후 자발순환 회복 여부']==1,'응급실 심폐소생술 후 자발순환 회복 여부']='회복되지 않음'\n",
    "data.loc[data.loc[:,'응급실 심폐소생술 후 자발순환 회복 여부']==2,'응급실 심폐소생술 후 자발순환 회복 여부']='자발순환 회복됨'\n",
    "data.loc[data.loc[:,'병원 도착 전 자발순환 회복 여부']==1,'병원 도착 전 자발순환 회복 여부']='자발순환 회복'\n",
    "data.loc[data.loc[:,'병원 도착 전 자발순환 회복 여부']==2,'병원 도착 전 자발순환 회복 여부']='자발순환 회복 없음'"
   ]
  },
  {
   "cell_type": "markdown",
   "id": "f611a20a",
   "metadata": {},
   "source": [
    "## 시각데이터 전처리\n",
    "\n",
    "급성심장정지 목격시각, 심장정지 발생시각, 119 신고 시각, 병원 도착 시각을 이용해서 심정지 발생 후 응급실 도착 걸린 시간,심정지 발생후 심정지 목격에 걸린 시간을 구했습니다.   \n",
    "\n",
    "제가 생각했을 때 심장정지 발생했을 때 생존을 위해서 중요한게 심정지 발생 후 빨리발견 되는 것과 빠르게 병원을 이송하는 거라 생각해서 위의 특성을 만들었습니다.\n"
   ]
  },
  {
   "cell_type": "markdown",
   "id": "6ec34d82",
   "metadata": {},
   "source": [
    "시간 데이터에 시간분 형식으로 들어가 있습니다.(13:15분인 경우 1315)\n",
    "데이터 값에 저 형식 말고 nan과 9999 0(0은 00:00분을 나타내는 것과 다른 값과 비교했을 때 비정상적인 값)이 들어있어 9999와 0은 nan으로 바꿨습니다."
   ]
  },
  {
   "cell_type": "code",
   "execution_count": 8,
   "id": "1ce3d6c0",
   "metadata": {},
   "outputs": [],
   "source": [
    "data.loc[(data['급성심장정지 목격시각']==9999)|(data['급성심장정지 목격시각']==0),'급성심장정지 목격시각']=np.NaN\n",
    "data.loc[(data['심장정지 발생시각']==9999)|(data['심장정지 발생시각']==0),'심장정지 발생시각']=np.NaN\n",
    "data.loc[(data['119 신고 시각']==9999)|(data['119 신고 시각']==0),'119 신고 시각']=np.NaN\n",
    "data.loc[(data['병원 도착시각']==9999)|(data['병원 도착시각']==0),'병원 도착시각']=np.NaN"
   ]
  },
  {
   "cell_type": "markdown",
   "id": "e1041826",
   "metadata": {},
   "source": [
    "시각단위을 분단위로 바꿨습니다."
   ]
  },
  {
   "cell_type": "code",
   "execution_count": 9,
   "id": "06627cd1",
   "metadata": {},
   "outputs": [],
   "source": [
    "for i in range(len(data['119 신고 시각'])):\n",
    "    if data['119 신고 시각'][i]!=np.NaN:\n",
    "        data['119 신고 시각'][i]=data['119 신고 시각'][i]//100*60+data['119 신고 시각'][i]%100\n",
    "    if data['급성심장정지 목격시각'][i]!=np.NaN:    \n",
    "        data['급성심장정지 목격시각'][i]=data['급성심장정지 목격시각'][i]//100*60+data['급성심장정지 목격시각'][i]%100\n",
    "    if data['심장정지 발생시각'][i]!=np.NaN:\n",
    "        data['심장정지 발생시각'][i]=data['심장정지 발생시각'][i]//100*60+data['심장정지 발생시각'][i]%100\n",
    "    if data['병원 도착시각'][i]!=np.NaN:    \n",
    "        data['병원 도착시각'][i]=data['병원 도착시각'][i]//100*60+data['병원 도착시각'][i]%100"
   ]
  },
  {
   "cell_type": "code",
   "execution_count": 10,
   "id": "77cc3395",
   "metadata": {},
   "outputs": [],
   "source": [
    "data.index=range(len(data['성별']))\n",
    "data['심정지 발생후 심정지 목격에 걸린 시간']=pd._libs.tslibs.nattype.NaTType\n",
    "for i in range(len(data['병원 도착시각'])):\n",
    "    idx1=False\n",
    "    if data['급성심장정지 목격시각'][i]==pd.NaT or data['심장정지 발생시각'][i]==pd.NaT :\n",
    "        continue\n",
    "    if data['급성심장정지 목격시각'][i]<data['심장정지 발생시각'][i]:\n",
    "        data['급성심장정지 목격시각'][i]+=1440\n",
    "        idx1=True\n",
    "    data['심정지 발생후 심정지 목격에 걸린 시간'][i]=data['급성심장정지 목격시각'][i]-data['심장정지 발생시각'][i]\n",
    "    if idx1:\n",
    "        data['급성심장정지 목격시각'][i]-=1440\n",
    "    if data['심정지 발생후 심정지 목격에 걸린 시간'][i]>1000 and ((data['심장정지 발생시각'][i]-data['급성심장정지 목격시각'][i])>0):\n",
    "        data['심정지 발생후 심정지 목격에 걸린 시간'][i]=data['심장정지 발생시각'][i]-data['급성심장정지 목격시각'][i]"
   ]
  },
  {
   "cell_type": "markdown",
   "id": "d042edc0",
   "metadata": {},
   "source": [
    "심정지 발생 후 응급실 도착 걸린 시간을 구하는 과정에서 가장 정확한 순서인 심장정지 발생시각->급성심장정지 목격시각-> 119 신고 시각으로 값이 있으면 계산을 하고 없으면 다음 속성에서 값을 구했습니다."
   ]
  },
  {
   "cell_type": "code",
   "execution_count": 11,
   "id": "5e736687",
   "metadata": {},
   "outputs": [],
   "source": [
    "data.index=range(len(data['성별']))\n",
    "data['심정지 발생 후 응급실 도착 걸린 시간']=pd._libs.tslibs.nattype.NaTType\n",
    "for i in range(len(data['병원 도착시각'])):\n",
    "    idx1=False\n",
    "    idx2=False\n",
    "    idx3=False\n",
    "    if data['병원 도착시각'][i]==pd.NaT :\n",
    "        continue\n",
    "    if type(data['심장정지 발생시각'][i])!=pd._libs.tslibs.nattype.NaTType:\n",
    "        if data['병원 도착시각'][i]<data['심장정지 발생시각'][i]:\n",
    "            data['병원 도착시각'][i]+=1440\n",
    "            idx1=True\n",
    "        data['심정지 발생 후 응급실 도착 걸린 시간'][i]=data['병원 도착시각'][i]-data['심장정지 발생시각'][i]\n",
    "        if data['심정지 발생 후 응급실 도착 걸린 시간'][i]<200:\n",
    "            if idx1:\n",
    "                data['병원 도착시각'][i]-=1440\n",
    "            continue\n",
    "        if idx1:\n",
    "            data['병원 도착시각'][i]-=1440\n",
    "    if type(data['급성심장정지 목격시각'][i])!=pd._libs.tslibs.nattype.NaTType:\n",
    "        if data['병원 도착시각'][i]<data['급성심장정지 목격시각'][i]:\n",
    "            data['병원 도착시각'][i]+=1440\n",
    "            idx2=True\n",
    "        data['심정지 발생 후 응급실 도착 걸린 시간'][i]=data['병원 도착시각'][i]-data['급성심장정지 목격시각'][i]\n",
    "        if data['심정지 발생 후 응급실 도착 걸린 시간'][i]<200:\n",
    "            if idx2:\n",
    "                data['병원 도착시각'][i]-=1440\n",
    "            continue\n",
    "        if idx2:\n",
    "            data['병원 도착시각'][i]-=1440\n",
    "    if type(data['119 신고 시각'][i])!=pd._libs.tslibs.nattype.NaTType:\n",
    "        if data['병원 도착시각'][i]<data['119 신고 시각'][i]:\n",
    "            data['병원 도착시각'][i]+=1440\n",
    "            idx3=True\n",
    "        data['심정지 발생 후 응급실 도착 걸린 시간'][i]=data['병원 도착시각'][i]-data['119 신고 시각'][i]\n",
    "        if data['심정지 발생 후 응급실 도착 걸린 시간'][i]<200:\n",
    "            if idx3:\n",
    "                data['병원 도착시각'][i]-=1440\n",
    "            continue\n",
    "        if idx3:\n",
    "            data['병원 도착시각'][i]-=1440"
   ]
  },
  {
   "cell_type": "code",
   "execution_count": 12,
   "id": "71de559e",
   "metadata": {},
   "outputs": [],
   "source": [
    "data1=data.drop(['급성심장정지 목격시각','병원 도착시각','심장정지 발생시각','119 신고 시각'],axis=1\n",
    "               )"
   ]
  },
  {
   "cell_type": "code",
   "execution_count": 13,
   "id": "064537a7",
   "metadata": {},
   "outputs": [],
   "source": [
    "data1=data1.dropna()"
   ]
  },
  {
   "cell_type": "code",
   "execution_count": 14,
   "id": "26dc2209",
   "metadata": {
    "scrolled": false
   },
   "outputs": [
    {
     "data": {
      "text/html": [
       "<div>\n",
       "<style scoped>\n",
       "    .dataframe tbody tr th:only-of-type {\n",
       "        vertical-align: middle;\n",
       "    }\n",
       "\n",
       "    .dataframe tbody tr th {\n",
       "        vertical-align: top;\n",
       "    }\n",
       "\n",
       "    .dataframe thead th {\n",
       "        text-align: right;\n",
       "    }\n",
       "</style>\n",
       "<table border=\"1\" class=\"dataframe\">\n",
       "  <thead>\n",
       "    <tr style=\"text-align: right;\">\n",
       "      <th></th>\n",
       "      <th>성별</th>\n",
       "      <th>연령(만 나이)</th>\n",
       "      <th>병원 도착 전 자발순환 회복 여부</th>\n",
       "      <th>흡연력</th>\n",
       "      <th>응급실 심폐소생술 후 자발순환 회복 여부</th>\n",
       "      <th>구급대 자동심장충격기 시행 여부</th>\n",
       "      <th>구급차 도착 전 응급처치 지도</th>\n",
       "      <th>응급실 진료결과</th>\n",
       "      <th>심정지 발생후 심정지 목격에 걸린 시간</th>\n",
       "      <th>심정지 발생 후 응급실 도착 걸린 시간</th>\n",
       "    </tr>\n",
       "  </thead>\n",
       "  <tbody>\n",
       "    <tr>\n",
       "      <th>count</th>\n",
       "      <td>1089</td>\n",
       "      <td>1089.000000</td>\n",
       "      <td>1089</td>\n",
       "      <td>1089</td>\n",
       "      <td>1089</td>\n",
       "      <td>1089</td>\n",
       "      <td>1089</td>\n",
       "      <td>1089</td>\n",
       "      <td>1089.0</td>\n",
       "      <td>1089.0</td>\n",
       "    </tr>\n",
       "    <tr>\n",
       "      <th>unique</th>\n",
       "      <td>2</td>\n",
       "      <td>NaN</td>\n",
       "      <td>1</td>\n",
       "      <td>3</td>\n",
       "      <td>2</td>\n",
       "      <td>2</td>\n",
       "      <td>2</td>\n",
       "      <td>2</td>\n",
       "      <td>73.0</td>\n",
       "      <td>83.0</td>\n",
       "    </tr>\n",
       "    <tr>\n",
       "      <th>top</th>\n",
       "      <td>남자</td>\n",
       "      <td>NaN</td>\n",
       "      <td>자발순환 회복 없음</td>\n",
       "      <td>없음</td>\n",
       "      <td>자발순환 회복됨</td>\n",
       "      <td>시행하지 않음</td>\n",
       "      <td>있음</td>\n",
       "      <td>alive</td>\n",
       "      <td>0.0</td>\n",
       "      <td>29.0</td>\n",
       "    </tr>\n",
       "    <tr>\n",
       "      <th>freq</th>\n",
       "      <td>792</td>\n",
       "      <td>NaN</td>\n",
       "      <td>1089</td>\n",
       "      <td>550</td>\n",
       "      <td>974</td>\n",
       "      <td>765</td>\n",
       "      <td>710</td>\n",
       "      <td>804</td>\n",
       "      <td>342.0</td>\n",
       "      <td>42.0</td>\n",
       "    </tr>\n",
       "    <tr>\n",
       "      <th>mean</th>\n",
       "      <td>NaN</td>\n",
       "      <td>64.423324</td>\n",
       "      <td>NaN</td>\n",
       "      <td>NaN</td>\n",
       "      <td>NaN</td>\n",
       "      <td>NaN</td>\n",
       "      <td>NaN</td>\n",
       "      <td>NaN</td>\n",
       "      <td>NaN</td>\n",
       "      <td>NaN</td>\n",
       "    </tr>\n",
       "    <tr>\n",
       "      <th>std</th>\n",
       "      <td>NaN</td>\n",
       "      <td>15.763004</td>\n",
       "      <td>NaN</td>\n",
       "      <td>NaN</td>\n",
       "      <td>NaN</td>\n",
       "      <td>NaN</td>\n",
       "      <td>NaN</td>\n",
       "      <td>NaN</td>\n",
       "      <td>NaN</td>\n",
       "      <td>NaN</td>\n",
       "    </tr>\n",
       "    <tr>\n",
       "      <th>min</th>\n",
       "      <td>NaN</td>\n",
       "      <td>0.000000</td>\n",
       "      <td>NaN</td>\n",
       "      <td>NaN</td>\n",
       "      <td>NaN</td>\n",
       "      <td>NaN</td>\n",
       "      <td>NaN</td>\n",
       "      <td>NaN</td>\n",
       "      <td>NaN</td>\n",
       "      <td>NaN</td>\n",
       "    </tr>\n",
       "    <tr>\n",
       "      <th>25%</th>\n",
       "      <td>NaN</td>\n",
       "      <td>54.000000</td>\n",
       "      <td>NaN</td>\n",
       "      <td>NaN</td>\n",
       "      <td>NaN</td>\n",
       "      <td>NaN</td>\n",
       "      <td>NaN</td>\n",
       "      <td>NaN</td>\n",
       "      <td>NaN</td>\n",
       "      <td>NaN</td>\n",
       "    </tr>\n",
       "    <tr>\n",
       "      <th>50%</th>\n",
       "      <td>NaN</td>\n",
       "      <td>65.000000</td>\n",
       "      <td>NaN</td>\n",
       "      <td>NaN</td>\n",
       "      <td>NaN</td>\n",
       "      <td>NaN</td>\n",
       "      <td>NaN</td>\n",
       "      <td>NaN</td>\n",
       "      <td>NaN</td>\n",
       "      <td>NaN</td>\n",
       "    </tr>\n",
       "    <tr>\n",
       "      <th>75%</th>\n",
       "      <td>NaN</td>\n",
       "      <td>76.000000</td>\n",
       "      <td>NaN</td>\n",
       "      <td>NaN</td>\n",
       "      <td>NaN</td>\n",
       "      <td>NaN</td>\n",
       "      <td>NaN</td>\n",
       "      <td>NaN</td>\n",
       "      <td>NaN</td>\n",
       "      <td>NaN</td>\n",
       "    </tr>\n",
       "    <tr>\n",
       "      <th>max</th>\n",
       "      <td>NaN</td>\n",
       "      <td>100.000000</td>\n",
       "      <td>NaN</td>\n",
       "      <td>NaN</td>\n",
       "      <td>NaN</td>\n",
       "      <td>NaN</td>\n",
       "      <td>NaN</td>\n",
       "      <td>NaN</td>\n",
       "      <td>NaN</td>\n",
       "      <td>NaN</td>\n",
       "    </tr>\n",
       "  </tbody>\n",
       "</table>\n",
       "</div>"
      ],
      "text/plain": [
       "          성별     연령(만 나이) 병원 도착 전 자발순환 회복 여부   흡연력 응급실 심폐소생술 후 자발순환 회복 여부  \\\n",
       "count   1089  1089.000000               1089  1089                   1089   \n",
       "unique     2          NaN                  1     3                      2   \n",
       "top       남자          NaN         자발순환 회복 없음    없음               자발순환 회복됨   \n",
       "freq     792          NaN               1089   550                    974   \n",
       "mean     NaN    64.423324                NaN   NaN                    NaN   \n",
       "std      NaN    15.763004                NaN   NaN                    NaN   \n",
       "min      NaN     0.000000                NaN   NaN                    NaN   \n",
       "25%      NaN    54.000000                NaN   NaN                    NaN   \n",
       "50%      NaN    65.000000                NaN   NaN                    NaN   \n",
       "75%      NaN    76.000000                NaN   NaN                    NaN   \n",
       "max      NaN   100.000000                NaN   NaN                    NaN   \n",
       "\n",
       "       구급대 자동심장충격기 시행 여부 구급차 도착 전 응급처치 지도 응급실 진료결과  심정지 발생후 심정지 목격에 걸린 시간  \\\n",
       "count               1089             1089     1089                 1089.0   \n",
       "unique                 2                2        2                   73.0   \n",
       "top              시행하지 않음               있음    alive                    0.0   \n",
       "freq                 765              710      804                  342.0   \n",
       "mean                 NaN              NaN      NaN                    NaN   \n",
       "std                  NaN              NaN      NaN                    NaN   \n",
       "min                  NaN              NaN      NaN                    NaN   \n",
       "25%                  NaN              NaN      NaN                    NaN   \n",
       "50%                  NaN              NaN      NaN                    NaN   \n",
       "75%                  NaN              NaN      NaN                    NaN   \n",
       "max                  NaN              NaN      NaN                    NaN   \n",
       "\n",
       "        심정지 발생 후 응급실 도착 걸린 시간  \n",
       "count                  1089.0  \n",
       "unique                   83.0  \n",
       "top                      29.0  \n",
       "freq                     42.0  \n",
       "mean                      NaN  \n",
       "std                       NaN  \n",
       "min                       NaN  \n",
       "25%                       NaN  \n",
       "50%                       NaN  \n",
       "75%                       NaN  \n",
       "max                       NaN  "
      ]
     },
     "execution_count": 14,
     "metadata": {},
     "output_type": "execute_result"
    }
   ],
   "source": [
    "data1.describe(include='all')"
   ]
  },
  {
   "cell_type": "code",
   "execution_count": 15,
   "id": "55a44aa5",
   "metadata": {},
   "outputs": [
    {
     "data": {
      "text/plain": [
       "3"
      ]
     },
     "execution_count": 15,
     "metadata": {},
     "output_type": "execute_result"
    }
   ],
   "source": [
    "data1.duplicated(['성별', '연령(만 나이)',  '병원 도착 전 자발순환 회복 여부', '흡연력', '응급실 심폐소생술 후 자발순환 회복 여부',\n",
    "       '구급대 자동심장충격기 시행 여부', '구급차 도착 전 응급처치 지도', \n",
    "       '심정지 발생 후 응급실 도착 걸린 시간','심정지 발생후 심정지 목격에 걸린 시간']).sum()"
   ]
  },
  {
   "cell_type": "code",
   "execution_count": 16,
   "id": "7770ce02",
   "metadata": {},
   "outputs": [
    {
     "data": {
      "text/plain": [
       "alive    804\n",
       "death    285\n",
       "Name: 응급실 진료결과, dtype: int64"
      ]
     },
     "execution_count": 16,
     "metadata": {},
     "output_type": "execute_result"
    }
   ],
   "source": [
    "data1['응급실 진료결과'].value_counts()"
   ]
  },
  {
   "cell_type": "code",
   "execution_count": 17,
   "id": "a254d6e9",
   "metadata": {},
   "outputs": [],
   "source": [
    "import matplotlib.pyplot as plt"
   ]
  },
  {
   "cell_type": "markdown",
   "id": "ee395492",
   "metadata": {},
   "source": [
    "여기서 numeric data인 연령, 심정지 발생후 심정지 목격에 걸린 시간, 심정지 발생후 응급실 도착 걸린 시간의 이상치를 제거하겠습니다."
   ]
  },
  {
   "cell_type": "code",
   "execution_count": 19,
   "id": "1fb067a7",
   "metadata": {},
   "outputs": [
    {
     "data": {
      "text/plain": [
       "{'whiskers': [<matplotlib.lines.Line2D at 0x1ce272c5880>,\n",
       "  <matplotlib.lines.Line2D at 0x1ce272c5be0>],\n",
       " 'caps': [<matplotlib.lines.Line2D at 0x1ce272c5f40>,\n",
       "  <matplotlib.lines.Line2D at 0x1ce272dc2e0>],\n",
       " 'boxes': [<matplotlib.lines.Line2D at 0x1ce272c5520>],\n",
       " 'medians': [<matplotlib.lines.Line2D at 0x1ce272dc640>],\n",
       " 'fliers': [<matplotlib.lines.Line2D at 0x1ce272dc9a0>],\n",
       " 'means': []}"
      ]
     },
     "execution_count": 19,
     "metadata": {},
     "output_type": "execute_result"
    },
    {
     "data": {
      "image/png": "[encoded data removed]",
      "text/plain": [
       "<Figure size 432x288 with 1 Axes>"
      ]
     },
     "metadata": {
      "needs_background": "light"
     },
     "output_type": "display_data"
    }
   ],
   "source": [
    "plt.boxplot(data1['심정지 발생후 심정지 목격에 걸린 시간'])"
   ]
  },
  {
   "cell_type": "code",
   "execution_count": 20,
   "id": "c49ca164",
   "metadata": {},
   "outputs": [
    {
     "data": {
      "text/plain": [
       "{'whiskers': [<matplotlib.lines.Line2D at 0x1ce27a45640>,\n",
       "  <matplotlib.lines.Line2D at 0x1ce27a459a0>],\n",
       " 'caps': [<matplotlib.lines.Line2D at 0x1ce27a45d00>,\n",
       "  <matplotlib.lines.Line2D at 0x1ce27a540a0>],\n",
       " 'boxes': [<matplotlib.lines.Line2D at 0x1ce27a452e0>],\n",
       " 'medians': [<matplotlib.lines.Line2D at 0x1ce27a54400>],\n",
       " 'fliers': [<matplotlib.lines.Line2D at 0x1ce27a54760>],\n",
       " 'means': []}"
      ]
     },
     "execution_count": 20,
     "metadata": {},
     "output_type": "execute_result"
    },
    {
     "data": {
      "image/png": "[encoded data removed]",
      "text/plain": [
       "<Figure size 432x288 with 1 Axes>"
      ]
     },
     "metadata": {
      "needs_background": "light"
     },
     "output_type": "display_data"
    }
   ],
   "source": [
    "plt.boxplot(data1['심정지 발생 후 응급실 도착 걸린 시간'])"
   ]
  },
  {
   "cell_type": "code",
   "execution_count": 21,
   "id": "30aa7230",
   "metadata": {},
   "outputs": [
    {
     "data": {
      "text/plain": [
       "{'whiskers': [<matplotlib.lines.Line2D at 0x1ce27aa5df0>,\n",
       "  <matplotlib.lines.Line2D at 0x1ce27ab7130>],\n",
       " 'caps': [<matplotlib.lines.Line2D at 0x1ce27ab7490>,\n",
       "  <matplotlib.lines.Line2D at 0x1ce27ab77f0>],\n",
       " 'boxes': [<matplotlib.lines.Line2D at 0x1ce27aa5a90>],\n",
       " 'medians': [<matplotlib.lines.Line2D at 0x1ce27ab7b50>],\n",
       " 'fliers': [<matplotlib.lines.Line2D at 0x1ce27ab7eb0>],\n",
       " 'means': []}"
      ]
     },
     "execution_count": 21,
     "metadata": {},
     "output_type": "execute_result"
    },
    {
     "data": {
      "image/png": "[encoded data removed]",
      "text/plain": [
       "<Figure size 432x288 with 1 Axes>"
      ]
     },
     "metadata": {
      "needs_background": "light"
     },
     "output_type": "display_data"
    }
   ],
   "source": [
    "plt.boxplot(data1['연령(만 나이)'])"
   ]
  },
  {
   "cell_type": "code",
   "execution_count": 22,
   "id": "e13fb239",
   "metadata": {},
   "outputs": [
    {
     "name": "stdout",
     "output_type": "stream",
     "text": [
      "(62.0, -10.0)\n"
     ]
    }
   ],
   "source": [
    "def outliers_iqr(data):\n",
    "    q1,q3=np.percentile(data,[25,75])\n",
    "    iqr=q3-q1\n",
    "    lower_bound=q1-(iqr*1.5)\n",
    "    upper_bound=q3+(iqr*1.5)\n",
    "    return upper_bound,lower_bound\n",
    "print(outliers_iqr(data1['심정지 발생 후 응급실 도착 걸린 시간']))"
   ]
  },
  {
   "cell_type": "code",
   "execution_count": 23,
   "id": "17dd85a2",
   "metadata": {},
   "outputs": [
    {
     "name": "stdout",
     "output_type": "stream",
     "text": [
      "(109.0, 21.0)\n"
     ]
    }
   ],
   "source": [
    "print(outliers_iqr(data1['연령(만 나이)']))"
   ]
  },
  {
   "cell_type": "code",
   "execution_count": 24,
   "id": "cd930c33",
   "metadata": {},
   "outputs": [
    {
     "name": "stdout",
     "output_type": "stream",
     "text": [
      "(20.0, -12.0)\n"
     ]
    }
   ],
   "source": [
    "print(outliers_iqr(data1['심정지 발생후 심정지 목격에 걸린 시간']))"
   ]
  },
  {
   "cell_type": "code",
   "execution_count": 25,
   "id": "43b4a6c0",
   "metadata": {},
   "outputs": [],
   "source": [
    "data1.loc[data1['심정지 발생 후 응급실 도착 걸린 시간']>62]=np.NaN"
   ]
  },
  {
   "cell_type": "code",
   "execution_count": 26,
   "id": "b5331d12",
   "metadata": {},
   "outputs": [],
   "source": [
    "data1.loc[data1['심정지 발생후 심정지 목격에 걸린 시간']>20]=np.NaN\n",
    "data1.loc[data1['심정지 발생후 심정지 목격에 걸린 시간']<0]=np.NaN"
   ]
  },
  {
   "cell_type": "code",
   "execution_count": 27,
   "id": "71a524ca",
   "metadata": {},
   "outputs": [],
   "source": [
    "data1.loc[data1['연령(만 나이)']<21]=np.NaN"
   ]
  },
  {
   "cell_type": "code",
   "execution_count": 28,
   "id": "6dbc325b",
   "metadata": {},
   "outputs": [],
   "source": [
    "data1=data1.dropna()"
   ]
  },
  {
   "cell_type": "code",
   "execution_count": 29,
   "id": "b712e1b4",
   "metadata": {},
   "outputs": [
    {
     "data": {
      "text/plain": [
       "(962, 10)"
      ]
     },
     "execution_count": 29,
     "metadata": {},
     "output_type": "execute_result"
    }
   ],
   "source": [
    "data1.shape"
   ]
  },
  {
   "cell_type": "code",
   "execution_count": 30,
   "id": "9f42db04",
   "metadata": {},
   "outputs": [
    {
     "data": {
      "text/plain": [
       "(array([ 99.,  98.,  74., 150., 205., 165.,  65.,  59.,  34.,  13.]),\n",
       " array([1.0, 7.0, 13.0, 19.0, 25.0, 31.0, 37.0, 43.0, 49.0, 55.0, 61.0],\n",
       "       dtype=object),\n",
       " <BarContainer object of 10 artists>)"
      ]
     },
     "execution_count": 30,
     "metadata": {},
     "output_type": "execute_result"
    },
    {
     "data": {
      "image/png": "[encoded data removed]",
      "text/plain": [
       "<Figure size 432x288 with 1 Axes>"
      ]
     },
     "metadata": {
      "needs_background": "light"
     },
     "output_type": "display_data"
    }
   ],
   "source": [
    "plt.hist(data1['심정지 발생 후 응급실 도착 걸린 시간'],bins=10)"
   ]
  },
  {
   "cell_type": "code",
   "execution_count": 31,
   "id": "ba1e7d03",
   "metadata": {},
   "outputs": [
    {
     "data": {
      "text/plain": [
       "(array([ 14.,  20.,  59., 122., 139., 179., 183., 163.,  76.,   7.]),\n",
       " array([ 22. ,  29.8,  37.6,  45.4,  53.2,  61. ,  68.8,  76.6,  84.4,\n",
       "         92.2, 100. ]),\n",
       " <BarContainer object of 10 artists>)"
      ]
     },
     "execution_count": 31,
     "metadata": {},
     "output_type": "execute_result"
    },
    {
     "data": {
      "image/png": "[encoded data removed]",
      "text/plain": [
       "<Figure size 432x288 with 1 Axes>"
      ]
     },
     "metadata": {
      "needs_background": "light"
     },
     "output_type": "display_data"
    }
   ],
   "source": [
    "plt.hist(data1['연령(만 나이)'],bins=10)"
   ]
  },
  {
   "cell_type": "code",
   "execution_count": 32,
   "id": "7f8b5375",
   "metadata": {},
   "outputs": [
    {
     "data": {
      "text/plain": [
       "(array([470., 159., 105.,  55.,  38.,  57.,  25.,  22.,  13.,  18.]),\n",
       " array([0.0, 2.0, 4.0, 6.0, 8.0, 10.0, 12.0, 14.0, 16.0, 18.0, 20.0],\n",
       "       dtype=object),\n",
       " <BarContainer object of 10 artists>)"
      ]
     },
     "execution_count": 32,
     "metadata": {},
     "output_type": "execute_result"
    },
    {
     "data": {
      "image/png": "[encoded data removed]",
      "text/plain": [
       "<Figure size 432x288 with 1 Axes>"
      ]
     },
     "metadata": {
      "needs_background": "light"
     },
     "output_type": "display_data"
    }
   ],
   "source": [
    "plt.hist(data1['심정지 발생후 심정지 목격에 걸린 시간'],bins=10)"
   ]
  },
  {
   "cell_type": "code",
   "execution_count": 33,
   "id": "5efd9b95",
   "metadata": {},
   "outputs": [
    {
     "data": {
      "text/plain": [
       "(962, 10)"
      ]
     },
     "execution_count": 33,
     "metadata": {},
     "output_type": "execute_result"
    }
   ],
   "source": [
    "data1.shape"
   ]
  },
  {
   "cell_type": "code",
   "execution_count": 110,
   "id": "78363ab9",
   "metadata": {},
   "outputs": [
    {
     "data": {
      "text/plain": [
       "<BarContainer object of 2 artists>"
      ]
     },
     "execution_count": 110,
     "metadata": {},
     "output_type": "execute_result"
    },
    {
     "data": {
      "image/png": "[encoded data removed]",
      "text/plain": [
       "<Figure size 432x288 with 1 Axes>"
      ]
     },
     "metadata": {
      "needs_background": "light"
     },
     "output_type": "display_data"
    }
   ],
   "source": [
    "plt.bar(['alive','death'],data1['응급실 진료결과'].value_counts())"
   ]
  },
  {
   "cell_type": "code",
   "execution_count": 111,
   "id": "95810cc0",
   "metadata": {},
   "outputs": [
    {
     "data": {
      "text/plain": [
       "alive    716\n",
       "death    243\n",
       "Name: 응급실 진료결과, dtype: int64"
      ]
     },
     "execution_count": 111,
     "metadata": {},
     "output_type": "execute_result"
    }
   ],
   "source": [
    "data1['응급실 진료결과'].value_counts()"
   ]
  },
  {
   "cell_type": "code",
   "execution_count": 35,
   "id": "8162f554",
   "metadata": {},
   "outputs": [],
   "source": [
    "data1=data1.drop_duplicates(['성별', '연령(만 나이)',  '병원 도착 전 자발순환 회복 여부',\n",
    "                             '흡연력', '응급실 심폐소생술 후 자발순환 회복 여부',\n",
    "       '구급대 자동심장충격기 시행 여부', '구급차 도착 전 응급처치 지도', \n",
    "       '심정지 발생 후 응급실 도착 걸린 시간','심정지 발생후 심정지 목격에 걸린 시간'])"
   ]
  },
  {
   "cell_type": "code",
   "execution_count": 36,
   "id": "6f5fe69c",
   "metadata": {},
   "outputs": [
    {
     "data": {
      "text/html": [
       "<div>\n",
       "<style scoped>\n",
       "    .dataframe tbody tr th:only-of-type {\n",
       "        vertical-align: middle;\n",
       "    }\n",
       "\n",
       "    .dataframe tbody tr th {\n",
       "        vertical-align: top;\n",
       "    }\n",
       "\n",
       "    .dataframe thead th {\n",
       "        text-align: right;\n",
       "    }\n",
       "</style>\n",
       "<table border=\"1\" class=\"dataframe\">\n",
       "  <thead>\n",
       "    <tr style=\"text-align: right;\">\n",
       "      <th></th>\n",
       "      <th>성별</th>\n",
       "      <th>연령(만 나이)</th>\n",
       "      <th>병원 도착 전 자발순환 회복 여부</th>\n",
       "      <th>흡연력</th>\n",
       "      <th>응급실 심폐소생술 후 자발순환 회복 여부</th>\n",
       "      <th>구급대 자동심장충격기 시행 여부</th>\n",
       "      <th>구급차 도착 전 응급처치 지도</th>\n",
       "      <th>응급실 진료결과</th>\n",
       "      <th>심정지 발생후 심정지 목격에 걸린 시간</th>\n",
       "      <th>심정지 발생 후 응급실 도착 걸린 시간</th>\n",
       "    </tr>\n",
       "  </thead>\n",
       "  <tbody>\n",
       "    <tr>\n",
       "      <th>3585</th>\n",
       "      <td>남자</td>\n",
       "      <td>49.0</td>\n",
       "      <td>자발순환 회복 없음</td>\n",
       "      <td>없음</td>\n",
       "      <td>자발순환 회복됨</td>\n",
       "      <td>시행하지 않음</td>\n",
       "      <td>없음</td>\n",
       "      <td>alive</td>\n",
       "      <td>1.0</td>\n",
       "      <td>3.0</td>\n",
       "    </tr>\n",
       "    <tr>\n",
       "      <th>3586</th>\n",
       "      <td>남자</td>\n",
       "      <td>49.0</td>\n",
       "      <td>자발순환 회복 없음</td>\n",
       "      <td>없음</td>\n",
       "      <td>자발순환 회복됨</td>\n",
       "      <td>시행하지 않음</td>\n",
       "      <td>있음</td>\n",
       "      <td>alive</td>\n",
       "      <td>0.0</td>\n",
       "      <td>24.0</td>\n",
       "    </tr>\n",
       "    <tr>\n",
       "      <th>3593</th>\n",
       "      <td>남자</td>\n",
       "      <td>49.0</td>\n",
       "      <td>자발순환 회복 없음</td>\n",
       "      <td>현재흡연</td>\n",
       "      <td>자발순환 회복됨</td>\n",
       "      <td>시행함</td>\n",
       "      <td>있음</td>\n",
       "      <td>alive</td>\n",
       "      <td>5.0</td>\n",
       "      <td>27.0</td>\n",
       "    </tr>\n",
       "    <tr>\n",
       "      <th>3594</th>\n",
       "      <td>남자</td>\n",
       "      <td>49.0</td>\n",
       "      <td>자발순환 회복 없음</td>\n",
       "      <td>현재흡연</td>\n",
       "      <td>자발순환 회복됨</td>\n",
       "      <td>시행하지 않음</td>\n",
       "      <td>없음</td>\n",
       "      <td>alive</td>\n",
       "      <td>2.0</td>\n",
       "      <td>29.0</td>\n",
       "    </tr>\n",
       "    <tr>\n",
       "      <th>3596</th>\n",
       "      <td>남자</td>\n",
       "      <td>49.0</td>\n",
       "      <td>자발순환 회복 없음</td>\n",
       "      <td>현재흡연</td>\n",
       "      <td>자발순환 회복됨</td>\n",
       "      <td>시행함</td>\n",
       "      <td>있음</td>\n",
       "      <td>alive</td>\n",
       "      <td>3.0</td>\n",
       "      <td>34.0</td>\n",
       "    </tr>\n",
       "    <tr>\n",
       "      <th>3611</th>\n",
       "      <td>남자</td>\n",
       "      <td>49.0</td>\n",
       "      <td>자발순환 회복 없음</td>\n",
       "      <td>현재흡연</td>\n",
       "      <td>자발순환 회복됨</td>\n",
       "      <td>시행함</td>\n",
       "      <td>있음</td>\n",
       "      <td>alive</td>\n",
       "      <td>0.0</td>\n",
       "      <td>26.0</td>\n",
       "    </tr>\n",
       "    <tr>\n",
       "      <th>3633</th>\n",
       "      <td>남자</td>\n",
       "      <td>49.0</td>\n",
       "      <td>자발순환 회복 없음</td>\n",
       "      <td>현재흡연</td>\n",
       "      <td>자발순환 회복됨</td>\n",
       "      <td>시행함</td>\n",
       "      <td>있음</td>\n",
       "      <td>alive</td>\n",
       "      <td>3.0</td>\n",
       "      <td>36.0</td>\n",
       "    </tr>\n",
       "    <tr>\n",
       "      <th>3634</th>\n",
       "      <td>남자</td>\n",
       "      <td>49.0</td>\n",
       "      <td>자발순환 회복 없음</td>\n",
       "      <td>현재흡연</td>\n",
       "      <td>자발순환 회복됨</td>\n",
       "      <td>시행하지 않음</td>\n",
       "      <td>없음</td>\n",
       "      <td>alive</td>\n",
       "      <td>10.0</td>\n",
       "      <td>30.0</td>\n",
       "    </tr>\n",
       "    <tr>\n",
       "      <th>3636</th>\n",
       "      <td>남자</td>\n",
       "      <td>49.0</td>\n",
       "      <td>자발순환 회복 없음</td>\n",
       "      <td>현재흡연</td>\n",
       "      <td>회복되지 않음</td>\n",
       "      <td>시행함</td>\n",
       "      <td>없음</td>\n",
       "      <td>death</td>\n",
       "      <td>7.0</td>\n",
       "      <td>23.0</td>\n",
       "    </tr>\n",
       "    <tr>\n",
       "      <th>3642</th>\n",
       "      <td>남자</td>\n",
       "      <td>49.0</td>\n",
       "      <td>자발순환 회복 없음</td>\n",
       "      <td>과거흡연</td>\n",
       "      <td>자발순환 회복됨</td>\n",
       "      <td>시행함</td>\n",
       "      <td>있음</td>\n",
       "      <td>alive</td>\n",
       "      <td>1.0</td>\n",
       "      <td>25.0</td>\n",
       "    </tr>\n",
       "    <tr>\n",
       "      <th>3644</th>\n",
       "      <td>남자</td>\n",
       "      <td>49.0</td>\n",
       "      <td>자발순환 회복 없음</td>\n",
       "      <td>없음</td>\n",
       "      <td>자발순환 회복됨</td>\n",
       "      <td>시행하지 않음</td>\n",
       "      <td>없음</td>\n",
       "      <td>alive</td>\n",
       "      <td>1.0</td>\n",
       "      <td>4.0</td>\n",
       "    </tr>\n",
       "    <tr>\n",
       "      <th>3870</th>\n",
       "      <td>남자</td>\n",
       "      <td>50.0</td>\n",
       "      <td>자발순환 회복 없음</td>\n",
       "      <td>없음</td>\n",
       "      <td>자발순환 회복됨</td>\n",
       "      <td>시행함</td>\n",
       "      <td>있음</td>\n",
       "      <td>alive</td>\n",
       "      <td>7.0</td>\n",
       "      <td>34.0</td>\n",
       "    </tr>\n",
       "    <tr>\n",
       "      <th>3873</th>\n",
       "      <td>남자</td>\n",
       "      <td>50.0</td>\n",
       "      <td>자발순환 회복 없음</td>\n",
       "      <td>현재흡연</td>\n",
       "      <td>자발순환 회복됨</td>\n",
       "      <td>시행함</td>\n",
       "      <td>있음</td>\n",
       "      <td>alive</td>\n",
       "      <td>7.0</td>\n",
       "      <td>61.0</td>\n",
       "    </tr>\n",
       "    <tr>\n",
       "      <th>3876</th>\n",
       "      <td>남자</td>\n",
       "      <td>50.0</td>\n",
       "      <td>자발순환 회복 없음</td>\n",
       "      <td>현재흡연</td>\n",
       "      <td>자발순환 회복됨</td>\n",
       "      <td>시행하지 않음</td>\n",
       "      <td>없음</td>\n",
       "      <td>alive</td>\n",
       "      <td>2.0</td>\n",
       "      <td>29.0</td>\n",
       "    </tr>\n",
       "    <tr>\n",
       "      <th>3882</th>\n",
       "      <td>남자</td>\n",
       "      <td>50.0</td>\n",
       "      <td>자발순환 회복 없음</td>\n",
       "      <td>과거흡연</td>\n",
       "      <td>자발순환 회복됨</td>\n",
       "      <td>시행함</td>\n",
       "      <td>있음</td>\n",
       "      <td>alive</td>\n",
       "      <td>5.0</td>\n",
       "      <td>28.0</td>\n",
       "    </tr>\n",
       "    <tr>\n",
       "      <th>3885</th>\n",
       "      <td>남자</td>\n",
       "      <td>50.0</td>\n",
       "      <td>자발순환 회복 없음</td>\n",
       "      <td>현재흡연</td>\n",
       "      <td>회복되지 않음</td>\n",
       "      <td>시행하지 않음</td>\n",
       "      <td>있음</td>\n",
       "      <td>alive</td>\n",
       "      <td>1.0</td>\n",
       "      <td>18.0</td>\n",
       "    </tr>\n",
       "    <tr>\n",
       "      <th>3894</th>\n",
       "      <td>남자</td>\n",
       "      <td>50.0</td>\n",
       "      <td>자발순환 회복 없음</td>\n",
       "      <td>없음</td>\n",
       "      <td>자발순환 회복됨</td>\n",
       "      <td>시행하지 않음</td>\n",
       "      <td>있음</td>\n",
       "      <td>alive</td>\n",
       "      <td>1.0</td>\n",
       "      <td>7.0</td>\n",
       "    </tr>\n",
       "    <tr>\n",
       "      <th>3897</th>\n",
       "      <td>남자</td>\n",
       "      <td>50.0</td>\n",
       "      <td>자발순환 회복 없음</td>\n",
       "      <td>현재흡연</td>\n",
       "      <td>자발순환 회복됨</td>\n",
       "      <td>시행하지 않음</td>\n",
       "      <td>있음</td>\n",
       "      <td>alive</td>\n",
       "      <td>4.0</td>\n",
       "      <td>49.0</td>\n",
       "    </tr>\n",
       "    <tr>\n",
       "      <th>3899</th>\n",
       "      <td>남자</td>\n",
       "      <td>50.0</td>\n",
       "      <td>자발순환 회복 없음</td>\n",
       "      <td>현재흡연</td>\n",
       "      <td>자발순환 회복됨</td>\n",
       "      <td>시행함</td>\n",
       "      <td>있음</td>\n",
       "      <td>alive</td>\n",
       "      <td>1.0</td>\n",
       "      <td>19.0</td>\n",
       "    </tr>\n",
       "    <tr>\n",
       "      <th>3912</th>\n",
       "      <td>남자</td>\n",
       "      <td>50.0</td>\n",
       "      <td>자발순환 회복 없음</td>\n",
       "      <td>현재흡연</td>\n",
       "      <td>자발순환 회복됨</td>\n",
       "      <td>시행하지 않음</td>\n",
       "      <td>없음</td>\n",
       "      <td>alive</td>\n",
       "      <td>1.0</td>\n",
       "      <td>27.0</td>\n",
       "    </tr>\n",
       "  </tbody>\n",
       "</table>\n",
       "</div>"
      ],
      "text/plain": [
       "      성별  연령(만 나이) 병원 도착 전 자발순환 회복 여부   흡연력 응급실 심폐소생술 후 자발순환 회복 여부  \\\n",
       "3585  남자      49.0         자발순환 회복 없음    없음               자발순환 회복됨   \n",
       "3586  남자      49.0         자발순환 회복 없음    없음               자발순환 회복됨   \n",
       "3593  남자      49.0         자발순환 회복 없음  현재흡연               자발순환 회복됨   \n",
       "3594  남자      49.0         자발순환 회복 없음  현재흡연               자발순환 회복됨   \n",
       "3596  남자      49.0         자발순환 회복 없음  현재흡연               자발순환 회복됨   \n",
       "3611  남자      49.0         자발순환 회복 없음  현재흡연               자발순환 회복됨   \n",
       "3633  남자      49.0         자발순환 회복 없음  현재흡연               자발순환 회복됨   \n",
       "3634  남자      49.0         자발순환 회복 없음  현재흡연               자발순환 회복됨   \n",
       "3636  남자      49.0         자발순환 회복 없음  현재흡연                회복되지 않음   \n",
       "3642  남자      49.0         자발순환 회복 없음  과거흡연               자발순환 회복됨   \n",
       "3644  남자      49.0         자발순환 회복 없음    없음               자발순환 회복됨   \n",
       "3870  남자      50.0         자발순환 회복 없음    없음               자발순환 회복됨   \n",
       "3873  남자      50.0         자발순환 회복 없음  현재흡연               자발순환 회복됨   \n",
       "3876  남자      50.0         자발순환 회복 없음  현재흡연               자발순환 회복됨   \n",
       "3882  남자      50.0         자발순환 회복 없음  과거흡연               자발순환 회복됨   \n",
       "3885  남자      50.0         자발순환 회복 없음  현재흡연                회복되지 않음   \n",
       "3894  남자      50.0         자발순환 회복 없음    없음               자발순환 회복됨   \n",
       "3897  남자      50.0         자발순환 회복 없음  현재흡연               자발순환 회복됨   \n",
       "3899  남자      50.0         자발순환 회복 없음  현재흡연               자발순환 회복됨   \n",
       "3912  남자      50.0         자발순환 회복 없음  현재흡연               자발순환 회복됨   \n",
       "\n",
       "     구급대 자동심장충격기 시행 여부 구급차 도착 전 응급처치 지도 응급실 진료결과 심정지 발생후 심정지 목격에 걸린 시간  \\\n",
       "3585           시행하지 않음               없음    alive                   1.0   \n",
       "3586           시행하지 않음               있음    alive                   0.0   \n",
       "3593               시행함               있음    alive                   5.0   \n",
       "3594           시행하지 않음               없음    alive                   2.0   \n",
       "3596               시행함               있음    alive                   3.0   \n",
       "3611               시행함               있음    alive                   0.0   \n",
       "3633               시행함               있음    alive                   3.0   \n",
       "3634           시행하지 않음               없음    alive                  10.0   \n",
       "3636               시행함               없음    death                   7.0   \n",
       "3642               시행함               있음    alive                   1.0   \n",
       "3644           시행하지 않음               없음    alive                   1.0   \n",
       "3870               시행함               있음    alive                   7.0   \n",
       "3873               시행함               있음    alive                   7.0   \n",
       "3876           시행하지 않음               없음    alive                   2.0   \n",
       "3882               시행함               있음    alive                   5.0   \n",
       "3885           시행하지 않음               있음    alive                   1.0   \n",
       "3894           시행하지 않음               있음    alive                   1.0   \n",
       "3897           시행하지 않음               있음    alive                   4.0   \n",
       "3899               시행함               있음    alive                   1.0   \n",
       "3912           시행하지 않음               없음    alive                   1.0   \n",
       "\n",
       "     심정지 발생 후 응급실 도착 걸린 시간  \n",
       "3585                   3.0  \n",
       "3586                  24.0  \n",
       "3593                  27.0  \n",
       "3594                  29.0  \n",
       "3596                  34.0  \n",
       "3611                  26.0  \n",
       "3633                  36.0  \n",
       "3634                  30.0  \n",
       "3636                  23.0  \n",
       "3642                  25.0  \n",
       "3644                   4.0  \n",
       "3870                  34.0  \n",
       "3873                  61.0  \n",
       "3876                  29.0  \n",
       "3882                  28.0  \n",
       "3885                  18.0  \n",
       "3894                   7.0  \n",
       "3897                  49.0  \n",
       "3899                  19.0  \n",
       "3912                  27.0  "
      ]
     },
     "execution_count": 36,
     "metadata": {},
     "output_type": "execute_result"
    }
   ],
   "source": [
    "data1[100:120]"
   ]
  },
  {
   "cell_type": "code",
   "execution_count": 37,
   "id": "ef333182",
   "metadata": {},
   "outputs": [
    {
     "data": {
      "text/plain": [
       "(959, 10)"
      ]
     },
     "execution_count": 37,
     "metadata": {},
     "output_type": "execute_result"
    }
   ],
   "source": [
    "data1.shape"
   ]
  },
  {
   "cell_type": "code",
   "execution_count": 38,
   "id": "9c7f13cc",
   "metadata": {},
   "outputs": [],
   "source": [
    "target=data1['응급실 진료결과']\n",
    "predictor=data1.drop(['응급실 진료결과'],axis=1)"
   ]
  },
  {
   "cell_type": "markdown",
   "id": "6a2c48eb",
   "metadata": {},
   "source": [
    "카테고리 데이터는 클래스 별로 상관관계가 없으니 one hot encoder를 사용 numeric데이터는 scale조정을 했습니다. 그리고 응급실 진료 결과가 비율이 맞지 않아 oversampling 10-fold로 정확도를 구했습니다."
   ]
  },
  {
   "cell_type": "code",
   "execution_count": 130,
   "id": "78905008",
   "metadata": {},
   "outputs": [],
   "source": [
    "from sklearn.model_selection import StratifiedKFold\n",
    "from sklearn.model_selection import cross_val_predict\n",
    "from sklearn.metrics import classification_report, accuracy_score, confusion_matrix\n",
    "from sklearn.linear_model import LogisticRegression\n",
    "from imblearn.pipeline import Pipeline\n",
    "from imblearn.over_sampling import RandomOverSampler\n",
    "from sklearn.preprocessing import OneHotEncoder, OrdinalEncoder, StandardScaler, LabelEncoder\n",
    "from sklearn.compose import ColumnTransformer\n",
    "from sklearn.metrics import make_scorer\n",
    "from sklearn.ensemble import RandomForestClassifier\n",
    "from sklearn.preprocessing import LabelEncoder\n",
    "from sklearn.neighbors import KNeighborsClassifier\n",
    "from sklearn.naive_bayes import GaussianNB\n",
    "from sklearn.tree import DecisionTreeClassifier\n",
    "from sklearn.svm import SVC\n",
    "from sklearn.ensemble import GradientBoostingClassifier\n",
    "from sklearn.svm import LinearSVC\n",
    "\n",
    "label = LabelEncoder()\n",
    "\n",
    "target = label.fit_transform(data1['응급실 진료결과'])\n",
    "label_names=['alive','death']\n",
    "label_order=label.transform(label_names)\n",
    "\n",
    "\n",
    "numeric_features = ['심정지 발생 후 응급실 도착 걸린 시간','연령(만 나이)','심정지 발생후 심정지 목격에 걸린 시간']\n",
    "categorical_features = ['성별','응급실 심폐소생술 후 자발순환 회복 여부','병원 도착 전 자발순환 회복 여부',\n",
    "       '구급대 자동심장충격기 시행 여부', '구급차 도착 전 응급처치 지도','흡연력']\n",
    "preprocessor = ColumnTransformer(\n",
    "    transformers=[\n",
    "        ('num', StandardScaler(), numeric_features),\n",
    "        ('cat', OneHotEncoder(), categorical_features),\n",
    "        ])\n",
    "pipeline = Pipeline([ \n",
    "    ('preprocessing', preprocessor), \n",
    "     ('balancing', RandomOverSampler()),\n",
    "    ('estimator', None)])\n",
    "cv = StratifiedKFold(n_splits=10, shuffle=True, random_state=42)\n"
   ]
  },
  {
   "cell_type": "code",
   "execution_count": 133,
   "id": "b75b0f10",
   "metadata": {},
   "outputs": [],
   "source": [
    "import itertools\n",
    "import matplotlib.pyplot as plt\n",
    "import numpy as np\n",
    "\n",
    "def plot_confusion_matrix(cm, classes,\n",
    "                          normalize=False,\n",
    "                          title='Confusion matrix',\n",
    "                          cmap=plt.cm.Blues):\n",
    "    \"\"\"\n",
    "    This function prints and plots the confusion matrix.\n",
    "    Normalization can be applied by setting `normalize=True`.\n",
    "    \"\"\"\n",
    "    if normalize:\n",
    "        cm = cm.astype('float') / cm.sum(axis=1)[:, np.newaxis]\n",
    "\n",
    "    plt.imshow(cm, interpolation='nearest', cmap=cmap)\n",
    "    plt.title(title)\n",
    "    plt.colorbar()\n",
    "    tick_marks = np.arange(len(classes))\n",
    "    plt.xticks(tick_marks, classes, rotation=45)\n",
    "    plt.yticks(tick_marks, classes)\n",
    "\n",
    "    fmt = '.2f' if normalize else 'd'\n",
    "    thresh = cm.max() / 2.\n",
    "    for i, j in itertools.product(range(cm.shape[0]), range(cm.shape[1])):\n",
    "        plt.text(j, i, format(cm[i, j], fmt),\n",
    "                 horizontalalignment=\"center\",\n",
    "                 color=\"black\" if cm[i, j] > thresh else \"black\")\n",
    "\n",
    "    plt.ylabel('True label')\n",
    "    plt.xlabel('Predicted label')\n",
    "    plt.tight_layout()"
   ]
  },
  {
   "cell_type": "code",
   "execution_count": 134,
   "id": "631b08fa",
   "metadata": {},
   "outputs": [],
   "source": [
    "#define function for computing average roc for cross validation\n",
    "#see http://scikit-learn.org/stable/auto_examples/model_selection/plot_roc_crossval.html\n",
    "from scipy import interp\n",
    "from sklearn.metrics import roc_curve, auc\n",
    "from sklearn.model_selection import GridSearchCV\n",
    "def avg_roc(cv, estimator, data, target, pos_label):\n",
    "    mean_fpr = np.linspace(0, 1, 100) # = [0.0, 0.01, 0.02, 0.03, ... , 0.99, 1.0]\n",
    "    tprs = []\n",
    "    aucs = []\n",
    "    \n",
    "    for train_indices, test_indices in cv.split(data, target):\n",
    "        train_data = data.iloc[train_indices]\n",
    "        train_target = target[train_indices]\n",
    "        estimator.fit(train_data, train_target)\n",
    "\n",
    "        test_data = data.iloc[test_indices]\n",
    "        test_target = target[test_indices]\n",
    "        decision_for_each_class = estimator.predict_proba(test_data)#have to use predict_proba or decision_function \n",
    "    \n",
    "        fpr, tpr, thresholds = roc_curve(test_target, decision_for_each_class[:,1], pos_label=pos_label)\n",
    "        tprs.append(interp(mean_fpr, fpr, tpr))\n",
    "        tprs[-1][0] = 0.0 # tprs[-1] access the last element\n",
    "        aucs.append(auc(fpr, tpr))\n",
    "        \n",
    "        #plt.plot(fpr, tpr)# plot for each fold\n",
    "        \n",
    "    mean_tpr = np.mean(tprs, axis=0)\n",
    "    mean_tpr[-1] = 1.0 # set the last tpr to 1\n",
    "    mean_auc = auc(mean_fpr, mean_tpr)\n",
    "    std_auc = np.std(aucs)\n",
    "    \n",
    "    return mean_fpr, mean_tpr, mean_auc, std_auc"
   ]
  },
  {
   "cell_type": "markdown",
   "id": "046659b2",
   "metadata": {},
   "source": [
    "### Decision Tree Classifier"
   ]
  },
  {
   "cell_type": "code",
   "execution_count": 135,
   "id": "feb0860f",
   "metadata": {},
   "outputs": [
    {
     "name": "stdout",
     "output_type": "stream",
     "text": [
      "acc_tree 0.6976016684045881\n",
      "              precision    recall  f1-score   support\n",
      "\n",
      "       alive       0.81      0.78      0.79       716\n",
      "       death       0.41      0.47      0.44       243\n",
      "\n",
      "    accuracy                           0.70       959\n",
      "   macro avg       0.61      0.62      0.62       959\n",
      "weighted avg       0.71      0.70      0.70       959\n",
      "\n"
     ]
    }
   ],
   "source": [
    "pipeline.set_params(estimator=DecisionTreeClassifier())\n",
    "tree_prediction = cross_val_predict(pipeline, predictor, target, cv=cv)\n",
    "acc_tree = accuracy_score(target, tree_prediction)\n",
    "print('acc_tree',acc_tree)\n",
    "print(classification_report(target, tree_prediction, target_names=label_names))"
   ]
  },
  {
   "cell_type": "code",
   "execution_count": 136,
   "id": "3db107fb",
   "metadata": {
    "scrolled": false
   },
   "outputs": [
    {
     "data": {
      "image/png": "[encoded data removed]",
      "text/plain": [
       "<Figure size 432x288 with 2 Axes>"
      ]
     },
     "metadata": {
      "needs_background": "light"
     },
     "output_type": "display_data"
    },
    {
     "name": "stdout",
     "output_type": "stream",
     "text": [
      "              precision    recall  f1-score   support\n",
      "\n",
      "       alive       0.81      0.78      0.79       716\n",
      "       death       0.41      0.47      0.44       243\n",
      "\n",
      "    accuracy                           0.70       959\n",
      "   macro avg       0.61      0.62      0.62       959\n",
      "weighted avg       0.71      0.70      0.70       959\n",
      "\n"
     ]
    }
   ],
   "source": [
    "cm_tree = confusion_matrix(target, tree_prediction, labels=label_order)\n",
    "\n",
    "plot_confusion_matrix(cm_tree, classes=label_names, title='tree')\n",
    "plt.show()\n",
    "print(classification_report(target, tree_prediction, target_names=label_names))"
   ]
  },
  {
   "cell_type": "markdown",
   "id": "6bedab89",
   "metadata": {},
   "source": [
    "클래스 비율이 맞지 않아 사망 생존의 f1 score precision racall이 차이가 난다.\n"
   ]
  },
  {
   "cell_type": "markdown",
   "id": "e6acabdd",
   "metadata": {},
   "source": [
    "roc 곡선"
   ]
  },
  {
   "cell_type": "code",
   "execution_count": 137,
   "id": "15201852",
   "metadata": {},
   "outputs": [
    {
     "data": {
      "image/png": "[encoded data removed]",
      "text/plain": [
       "<Figure size 720x720 with 1 Axes>"
      ]
     },
     "metadata": {
      "needs_background": "light"
     },
     "output_type": "display_data"
    }
   ],
   "source": [
    "plt.figure(figsize=(10,10))\n",
    "plt.plot([0, 1], [0, 1], linestyle='--', lw=2, color='r', label='Random', alpha=.8) # draw diagonal\n",
    "mean_fpr, mean_tpr, mean_auc, std_auc = avg_roc(cv, pipeline, predictor,target, 1)\n",
    "plt.plot(mean_fpr, mean_tpr, label='tree (AUC: {:.3f} $\\pm$ {:.3f})'.format(mean_auc, std_auc))\n",
    "plt.xlabel('false positive rate')\n",
    "plt.ylabel('true positive rate')\n",
    "plt.legend()\n",
    "plt.show()"
   ]
  },
  {
   "cell_type": "markdown",
   "id": "c21f06ae",
   "metadata": {},
   "source": [
    "gird_search를 이용해서 best_parm을 찾는다"
   ]
  },
  {
   "cell_type": "code",
   "execution_count": 138,
   "id": "cc7c293f",
   "metadata": {},
   "outputs": [
    {
     "name": "stdout",
     "output_type": "stream",
     "text": [
      "0.821689259645464\n",
      "Optimised Parameters: {'estimator__criterion': 'gini', 'estimator__max_depth': 2, 'estimator__min_samples_split': 2}\n"
     ]
    }
   ],
   "source": [
    "params={'estimator__criterion': ('gini', 'entropy'),\n",
    "'estimator__max_depth': [2, 3, 4, 5, None],\n",
    "'estimator__min_samples_split' :[1,2,3,4]}\n",
    "\n",
    "tree1=DecisionTreeClassifier()\n",
    "pipeline.set_params(estimator=tree1)\n",
    "grid_search_estimator=GridSearchCV(pipeline,params,cv=cv)\n",
    "prediction = cross_val_predict(grid_search_estimator,predictor, target, cv=cv )\n",
    "optimized_tree_acc = accuracy_score(target, prediction)\n",
    "print(optimized_tree_acc)\n",
    "grid_search_estimator.fit(predictor, target)\n",
    "\n",
    "print(\"Optimised Parameters: {}\".format(grid_search_estimator.best_params_))"
   ]
  },
  {
   "cell_type": "code",
   "execution_count": 139,
   "id": "bbd1a007",
   "metadata": {},
   "outputs": [
    {
     "data": {
      "image/png": "[encoded data removed]",
      "text/plain": [
       "<Figure size 432x288 with 2 Axes>"
      ]
     },
     "metadata": {
      "needs_background": "light"
     },
     "output_type": "display_data"
    },
    {
     "name": "stdout",
     "output_type": "stream",
     "text": [
      "optimized tree accuracy =  0.821689259645464\n",
      "              precision    recall  f1-score   support\n",
      "\n",
      "       alive       0.82      0.98      0.89       716\n",
      "       death       0.86      0.35      0.50       243\n",
      "\n",
      "    accuracy                           0.82       959\n",
      "   macro avg       0.84      0.67      0.70       959\n",
      "weighted avg       0.83      0.82      0.79       959\n",
      "\n"
     ]
    },
    {
     "data": {
      "image/png": "[encoded data removed]",
      "text/plain": [
       "<Figure size 432x288 with 2 Axes>"
      ]
     },
     "metadata": {
      "needs_background": "light"
     },
     "output_type": "display_data"
    },
    {
     "name": "stdout",
     "output_type": "stream",
     "text": [
      "tree accuracy =  0.6976016684045881\n",
      "              precision    recall  f1-score   support\n",
      "\n",
      "       alive       0.81      0.78      0.79       716\n",
      "       death       0.41      0.47      0.44       243\n",
      "\n",
      "    accuracy                           0.70       959\n",
      "   macro avg       0.61      0.62      0.62       959\n",
      "weighted avg       0.71      0.70      0.70       959\n",
      "\n"
     ]
    }
   ],
   "source": [
    "\n",
    "cm = confusion_matrix(target, prediction, labels=label_order)\n",
    "\n",
    "\n",
    "plot_confusion_matrix(cm, classes=label_names, title='tree with best params')\n",
    "plt.show()\n",
    "print('optimized tree accuracy = ',optimized_tree_acc)\n",
    "print(classification_report(target, prediction, target_names=label_names))\n",
    "\n",
    "\n",
    "\n",
    "cm_tree = confusion_matrix(target, tree_prediction, labels=label_order)\n",
    "plot_confusion_matrix(cm_tree, classes=label_names, title='tree')\n",
    "plt.show()\n",
    "print('tree accuracy = ',acc_tree)\n",
    "print(classification_report(target, tree_prediction, target_names=label_names))"
   ]
  },
  {
   "cell_type": "code",
   "execution_count": 140,
   "id": "b1ad647d",
   "metadata": {},
   "outputs": [
    {
     "data": {
      "image/png": "[encoded data removed]",
      "text/plain": [
       "<Figure size 720x720 with 1 Axes>"
      ]
     },
     "metadata": {
      "needs_background": "light"
     },
     "output_type": "display_data"
    }
   ],
   "source": [
    "plt.figure(figsize=(10,10))\n",
    "plt.plot([0, 1], [0, 1], linestyle='--', lw=2, color='r', label='Random', alpha=.8) # draw diagonal\n",
    "mean_fpr, mean_tpr, mean_auc, std_auc = avg_roc(cv, grid_search_estimator, predictor,target, 1)\n",
    "plt.plot(mean_fpr, mean_tpr, label='tree (AUC: {:.3f} $\\pm$ {:.3f})'.format(mean_auc, std_auc))\n",
    "plt.xlabel('false positive rate')\n",
    "plt.ylabel('true positive rate')\n",
    "plt.legend()\n",
    "plt.show()"
   ]
  },
  {
   "cell_type": "code",
   "execution_count": 141,
   "id": "72585dfd",
   "metadata": {},
   "outputs": [
    {
     "name": "stdout",
     "output_type": "stream",
     "text": [
      "0.7518248175182481\n",
      "Optimised Parameters: {'estimator__n_neighbors': 142}\n"
     ]
    }
   ],
   "source": [
    "params={'estimator__n_neighbors':range(1,200)}\n",
    "\n",
    "knn=KNeighborsClassifier()\n",
    "pipeline.set_params(estimator=knn)\n",
    "grid_search_estimator=GridSearchCV(pipeline,params,cv=cv)\n",
    "prediction = cross_val_predict(grid_search_estimator,predictor, target, cv=cv )\n",
    "knn_acc = accuracy_score(target, prediction)\n",
    "print(knn_acc)\n",
    "grid_search_estimator.fit(predictor, target)\n",
    "\n",
    "print(\"Optimised Parameters: {}\".format(grid_search_estimator.best_params_))"
   ]
  },
  {
   "cell_type": "code",
   "execution_count": 142,
   "id": "0b0ed1ae",
   "metadata": {},
   "outputs": [
    {
     "data": {
      "image/png": "[encoded data removed]",
      "text/plain": [
       "<Figure size 432x288 with 2 Axes>"
      ]
     },
     "metadata": {
      "needs_background": "light"
     },
     "output_type": "display_data"
    },
    {
     "name": "stdout",
     "output_type": "stream",
     "text": [
      "KNN accuracy =  0.7518248175182481\n",
      "              precision    recall  f1-score   support\n",
      "\n",
      "       alive       0.82      0.85      0.84       716\n",
      "       death       0.51      0.46      0.48       243\n",
      "\n",
      "    accuracy                           0.75       959\n",
      "   macro avg       0.67      0.65      0.66       959\n",
      "weighted avg       0.74      0.75      0.75       959\n",
      "\n"
     ]
    },
    {
     "data": {
      "image/png": "[encoded data removed]",
      "text/plain": [
       "<Figure size 432x288 with 2 Axes>"
      ]
     },
     "metadata": {
      "needs_background": "light"
     },
     "output_type": "display_data"
    },
    {
     "name": "stdout",
     "output_type": "stream",
     "text": [
      "tree accuracy =  0.6976016684045881\n",
      "              precision    recall  f1-score   support\n",
      "\n",
      "       alive       0.81      0.78      0.79       716\n",
      "       death       0.41      0.47      0.44       243\n",
      "\n",
      "    accuracy                           0.70       959\n",
      "   macro avg       0.61      0.62      0.62       959\n",
      "weighted avg       0.71      0.70      0.70       959\n",
      "\n"
     ]
    }
   ],
   "source": [
    "\n",
    "cm = confusion_matrix(target, prediction, labels=label_order)\n",
    "\n",
    "plot_confusion_matrix(cm, classes=label_names, title='KNN')\n",
    "plt.show()\n",
    "print('KNN accuracy = ',knn_acc)\n",
    "print(classification_report(target, prediction, target_names=label_names))\n",
    "\n",
    "\n",
    "cm_tree = confusion_matrix(target, tree_prediction, labels=label_order)\n",
    "plot_confusion_matrix(cm_tree, classes=label_names, title='tree')\n",
    "plt.show()\n",
    "print('tree accuracy = ',acc_tree)\n",
    "print(classification_report(target, tree_prediction, target_names=label_names))"
   ]
  },
  {
   "cell_type": "code",
   "execution_count": 143,
   "id": "dbb643d9",
   "metadata": {},
   "outputs": [
    {
     "data": {
      "image/png": "[encoded data removed]",
      "text/plain": [
       "<Figure size 720x720 with 1 Axes>"
      ]
     },
     "metadata": {
      "needs_background": "light"
     },
     "output_type": "display_data"
    }
   ],
   "source": [
    "plt.figure(figsize=(10,10))\n",
    "plt.plot([0, 1], [0, 1], linestyle='--', lw=2, color='r', label='Random', alpha=.8) # draw diagonal\n",
    "mean_fpr, mean_tpr, mean_auc, std_auc = avg_roc(cv, grid_search_estimator, predictor,target, 1)\n",
    "plt.plot(mean_fpr, mean_tpr, label='KNN (AUC: {:.3f} $\\pm$ {:.3f})'.format(mean_auc, std_auc))\n",
    "plt.xlabel('false positive rate')\n",
    "plt.ylabel('true positive rate')\n",
    "plt.legend()\n",
    "plt.show()"
   ]
  },
  {
   "cell_type": "markdown",
   "id": "e7b93f0a",
   "metadata": {},
   "source": [
    "### gradient boosting"
   ]
  },
  {
   "cell_type": "markdown",
   "id": "7627deb9",
   "metadata": {},
   "source": [
    "gradient boosting과 random forest에서 best n_estimators를 구하기 위해서 조기종료 방법을 사용해서 구했습니다.\n",
    "grid_search를 사용할 수 있지만 모든 경우의 수를 다 찾아야하기 때문에 오래 걸려 다른 방법인 조기 종료를 사용하게 됐습니다.\n",
    "\n",
    "warm_start가 지정되면 fit메서드가 호출될 때 처음부터 다시 시작하지 않고 이전 모델 파라미터에서 훈련을 이어감으로 시간을 절약할 수 있다.\n",
    "\n",
    "조기종료 방법은 일정횟수만큼 성능이 개선되지 않으면 훈련을 멈추는 방식을 말한다. \n",
    "\n"
   ]
  },
  {
   "cell_type": "code",
   "execution_count": 144,
   "id": "81be7210",
   "metadata": {},
   "outputs": [],
   "source": [
    "gbrt=GradientBoostingClassifier(max_depth=3,warm_start=True)\n",
    "max_val_acc=-1.0\n",
    "acc_going_up=0\n",
    "pipeline.set_params(estimator=gbrt)\n",
    "best_n_estimators=0\n",
    "\n",
    "for n_estimators in range(1,200):\n",
    "    pipeline.set_params(estimator__n_estimators=n_estimators)\n",
    "    y_pred = cross_val_predict(pipeline, predictor, target, cv=cv)\n",
    "    val_acc=accuracy_score(target, y_pred)\n",
    "    if val_acc>max_val_acc:\n",
    "        max_val_acc=val_acc\n",
    "        best_n_estimators=n_estimators\n",
    "        acc_going_up=0\n",
    "    else:\n",
    "        acc_going_up+=1\n",
    "        if acc_going_up==20:\n",
    "            break\n",
    "            "
   ]
  },
  {
   "cell_type": "code",
   "execution_count": 145,
   "id": "595c4169",
   "metadata": {},
   "outputs": [
    {
     "name": "stdout",
     "output_type": "stream",
     "text": [
      "max acc =  0.8039624608967675  best n_estimaors =  9\n"
     ]
    }
   ],
   "source": [
    "print(\"max acc = \",max_val_acc,\" best n_estimaors = \",best_n_estimators)"
   ]
  },
  {
   "cell_type": "code",
   "execution_count": 146,
   "id": "c6191c9d",
   "metadata": {},
   "outputs": [],
   "source": [
    "\n",
    "gbrt=GradientBoostingClassifier(max_depth=2,warm_start=True)\n",
    "max_val_acc=-1.0\n",
    "acc_going_up=0\n",
    "pipeline.set_params(estimator=gbrt)\n",
    "best_n_estimators=0\n",
    "\n",
    "\n",
    "for n_estimators in range(1,200):\n",
    "    pipeline.set_params(estimator__n_estimators=n_estimators)\n",
    "    y_pred = cross_val_predict(pipeline, predictor, target, cv=cv)\n",
    "    val_acc=accuracy_score(target, y_pred)\n",
    "    if val_acc>max_val_acc:\n",
    "        max_val_acc=val_acc\n",
    "        best_n_estimators=n_estimators\n",
    "        acc_going_up=0\n",
    "    else:\n",
    "        acc_going_up+=1\n",
    "        if acc_going_up==20:\n",
    "            break\n",
    "            "
   ]
  },
  {
   "cell_type": "code",
   "execution_count": 147,
   "id": "ca94ca0d",
   "metadata": {},
   "outputs": [
    {
     "name": "stdout",
     "output_type": "stream",
     "text": [
      "max acc =  0.821689259645464  best n_estimaors =  1\n"
     ]
    }
   ],
   "source": [
    "print(\"max acc = \",max_val_acc,\" best n_estimaors = \",best_n_estimators)"
   ]
  },
  {
   "cell_type": "code",
   "execution_count": 163,
   "id": "18967b2e",
   "metadata": {},
   "outputs": [],
   "source": [
    "\n",
    "gbrt=GradientBoostingClassifier(max_depth=1,warm_start=True)\n",
    "max_val_acc=-1.0\n",
    "acc_going_up=0\n",
    "pipeline.set_params(estimator=gbrt)\n",
    "best_n_estimators=0\n",
    "\n",
    "for n_estimators in range(1,200):\n",
    "    pipeline.set_params(estimator__n_estimators=n_estimators)\n",
    "    y_pred = cross_val_predict(pipeline, predictor, target, cv=cv)\n",
    "    val_acc=accuracy_score(target, y_pred)\n",
    "    if val_acc>max_val_acc:\n",
    "        max_val_acc=val_acc\n",
    "        best_n_estimators=n_estimators\n",
    "        acc_going_up=0\n",
    "    else:\n",
    "        acc_going_up+=1\n",
    "        if acc_going_up==20:\n",
    "            break\n"
   ]
  },
  {
   "cell_type": "code",
   "execution_count": 164,
   "id": "0a12da3e",
   "metadata": {},
   "outputs": [
    {
     "name": "stdout",
     "output_type": "stream",
     "text": [
      "max acc =  0.821689259645464  best n_estimaors =  1\n"
     ]
    }
   ],
   "source": [
    "print(\"max acc = \",max_val_acc,\" best n_estimaors = \",best_n_estimators)"
   ]
  },
  {
   "cell_type": "code",
   "execution_count": 166,
   "id": "6f534c7e",
   "metadata": {},
   "outputs": [
    {
     "data": {
      "image/png": "[encoded data removed]",
      "text/plain": [
       "<Figure size 432x288 with 2 Axes>"
      ]
     },
     "metadata": {
      "needs_background": "light"
     },
     "output_type": "display_data"
    },
    {
     "name": "stdout",
     "output_type": "stream",
     "text": [
      "gradient boosting accuracy =  0.821689259645464\n",
      "              precision    recall  f1-score   support\n",
      "\n",
      "       alive       0.82      0.98      0.89       716\n",
      "       death       0.86      0.35      0.50       243\n",
      "\n",
      "    accuracy                           0.82       959\n",
      "   macro avg       0.84      0.67      0.70       959\n",
      "weighted avg       0.83      0.82      0.79       959\n",
      "\n"
     ]
    },
    {
     "data": {
      "image/png": "[encoded data removed]",
      "text/plain": [
       "<Figure size 432x288 with 2 Axes>"
      ]
     },
     "metadata": {
      "needs_background": "light"
     },
     "output_type": "display_data"
    },
    {
     "name": "stdout",
     "output_type": "stream",
     "text": [
      "tree accuracy =  0.6976016684045881\n",
      "              precision    recall  f1-score   support\n",
      "\n",
      "       alive       0.81      0.78      0.79       716\n",
      "       death       0.41      0.47      0.44       243\n",
      "\n",
      "    accuracy                           0.70       959\n",
      "   macro avg       0.61      0.62      0.62       959\n",
      "weighted avg       0.71      0.70      0.70       959\n",
      "\n"
     ]
    }
   ],
   "source": [
    "pipeline.set_params(estimator__n_estimators=1,estimator__max_depth=2,estimator__warm_start=False)\n",
    "prediction= cross_val_predict(pipeline, predictor, target, cv=cv)\n",
    "gradient_acc=accuracy_score(target, prediction)\n",
    "cm = confusion_matrix(target, prediction, labels=label_order)\n",
    "\n",
    "plot_confusion_matrix(cm, classes=label_names, title='gradient boosting')\n",
    "plt.show()\n",
    "print('gradient boosting accuracy = ',gradient_acc)\n",
    "print(classification_report(target, prediction, target_names=label_names))\n",
    "\n",
    "cm_tree = confusion_matrix(target, tree_prediction, labels=label_order)\n",
    "plot_confusion_matrix(cm_tree, classes=label_names, title='tree')\n",
    "plt.show()\n",
    "print('tree accuracy = ',acc_tree)\n",
    "print(classification_report(target, tree_prediction, target_names=label_names))"
   ]
  },
  {
   "cell_type": "code",
   "execution_count": 151,
   "id": "7940a909",
   "metadata": {},
   "outputs": [
    {
     "data": {
      "image/png": "[encoded data removed]",
      "text/plain": [
       "<Figure size 720x720 with 1 Axes>"
      ]
     },
     "metadata": {
      "needs_background": "light"
     },
     "output_type": "display_data"
    }
   ],
   "source": [
    "\n",
    "plt.figure(figsize=(10,10))\n",
    "plt.plot([0, 1], [0, 1], linestyle='--', lw=2, color='r', label='Random', alpha=.8) # draw diagonal\n",
    "mean_fpr, mean_tpr, mean_auc, std_auc = avg_roc(cv, pipeline, predictor,target, 1)\n",
    "plt.plot(mean_fpr, mean_tpr, label='gradient boosting(AUC: {:.3f} $\\pm$ {:.3f})'.format(mean_auc, std_auc))\n",
    "plt.xlabel('false positive rate')\n",
    "plt.ylabel('true positive rate')\n",
    "plt.legend()\n",
    "plt.show()"
   ]
  },
  {
   "cell_type": "markdown",
   "id": "cb615fe9",
   "metadata": {},
   "source": [
    "이 데이터셋의 문제는 다른 알고리즘을 수행해도 최대값이 82%에서 개선되지 문제가 있다."
   ]
  },
  {
   "cell_type": "markdown",
   "id": "06e4336c",
   "metadata": {},
   "source": [
    "그레디언트 부스팅에서 n_estimators가 1일 때 끝나게 되는데 이유는 그레디언트 부스팅이 tree기반의 알고리즘이고 위에서 확인했다시피 max_depth가 2인 경우 최댓값이 나오기 때문에 n_estimators가 1일 때 끝나게 된다."
   ]
  },
  {
   "cell_type": "markdown",
   "id": "8c615534",
   "metadata": {},
   "source": [
    "### random forest\n",
    "tree의 max_depth가 2이면 최상임을 알고 있음으로 max_depth 파라미터를 조정하지 않고 수행했습니다\n",
    "Max_features=sqrt,log2, Max_leaf_nodes=16 인 경우만 찾았습니다.\n"
   ]
  },
  {
   "cell_type": "code",
   "execution_count": 152,
   "id": "7e6479ec",
   "metadata": {
    "scrolled": true
   },
   "outputs": [
    {
     "name": "stdout",
     "output_type": "stream",
     "text": [
      "max acc =  0.7664233576642335  best n_estimaors =  20\n"
     ]
    }
   ],
   "source": [
    "rf_clf=RandomForestClassifier(warm_start=True)\n",
    "max_val_acc=-1.0\n",
    "acc_going_up=0\n",
    "pipeline.set_params(estimator=rf_clf)\n",
    "best_n_estimators=0\n",
    "\n",
    "for n_estimators in range(1,200):\n",
    "    pipeline.set_params(estimator__n_estimators=n_estimators)\n",
    "    y_pred = cross_val_predict(pipeline, predictor, target, cv=cv)\n",
    "    val_acc=accuracy_score(target, y_pred)\n",
    "    if val_acc>max_val_acc:\n",
    "        max_val_acc=val_acc\n",
    "        best_n_estimators=n_estimators\n",
    "        acc_going_up=0\n",
    "    else:\n",
    "        acc_going_up+=1\n",
    "        if acc_going_up==20:\n",
    "            break\n",
    "print(\"max acc = \",max_val_acc,\" best n_estimaors = \",best_n_estimators)"
   ]
  },
  {
   "cell_type": "code",
   "execution_count": 153,
   "id": "51d6f4c1",
   "metadata": {},
   "outputs": [
    {
     "name": "stdout",
     "output_type": "stream",
     "text": [
      "max acc =  0.7799791449426486  best n_estimaors =  2\n"
     ]
    }
   ],
   "source": [
    "rf_clf=RandomForestClassifier(max_features='log2',warm_start=True)\n",
    "max_val_acc=-1.0\n",
    "acc_going_up=0\n",
    "pipeline.set_params(estimator=rf_clf)\n",
    "best_n_estimators=0\n",
    "\n",
    "for n_estimators in range(1,200):\n",
    "    pipeline.set_params(estimator__n_estimators=n_estimators)\n",
    "    y_pred = cross_val_predict(pipeline, predictor, target, cv=cv)\n",
    "    val_acc=accuracy_score(target, y_pred)\n",
    "    if val_acc>max_val_acc:\n",
    "        max_val_acc=val_acc\n",
    "        best_n_estimators=n_estimators\n",
    "        acc_going_up=0\n",
    "    else:\n",
    "        acc_going_up+=1\n",
    "        if acc_going_up==20:\n",
    "            break\n",
    "print(\"max acc = \",max_val_acc,\" best n_estimaors = \",best_n_estimators)"
   ]
  },
  {
   "cell_type": "code",
   "execution_count": 154,
   "id": "480901b2",
   "metadata": {},
   "outputs": [
    {
     "name": "stdout",
     "output_type": "stream",
     "text": [
      "max acc =  0.7956204379562044  best n_estimaors =  20\n"
     ]
    }
   ],
   "source": [
    "rf_clf=RandomForestClassifier(max_leaf_nodes=16,warm_start=True)\n",
    "max_val_acc=-1.0\n",
    "acc_going_up=0\n",
    "pipeline.set_params(estimator=rf_clf)\n",
    "best_n_estimators=0\n",
    "\n",
    "for n_estimators in range(1,200):\n",
    "    pipeline.set_params(estimator__n_estimators=n_estimators)\n",
    "    y_pred = cross_val_predict(pipeline, predictor, target, cv=cv)\n",
    "    val_acc=accuracy_score(target, y_pred)\n",
    "    if val_acc>max_val_acc:\n",
    "        max_val_acc=val_acc\n",
    "        best_n_estimators=n_estimators\n",
    "        acc_going_up=0\n",
    "    else:\n",
    "        acc_going_up+=1\n",
    "        if acc_going_up==20:\n",
    "            break\n",
    "print(\"max acc = \",max_val_acc,\" best n_estimaors = \",best_n_estimators)"
   ]
  },
  {
   "cell_type": "code",
   "execution_count": 155,
   "id": "0eab196a",
   "metadata": {},
   "outputs": [
    {
     "name": "stdout",
     "output_type": "stream",
     "text": [
      "random forest accuracy =  0.7956204379562044\n"
     ]
    },
    {
     "data": {
      "image/png": "[encoded data removed]",
      "text/plain": [
       "<Figure size 432x288 with 2 Axes>"
      ]
     },
     "metadata": {
      "needs_background": "light"
     },
     "output_type": "display_data"
    },
    {
     "name": "stdout",
     "output_type": "stream",
     "text": [
      "              precision    recall  f1-score   support\n",
      "\n",
      "       alive       0.83      0.92      0.87       716\n",
      "       death       0.65      0.43      0.51       243\n",
      "\n",
      "    accuracy                           0.80       959\n",
      "   macro avg       0.74      0.67      0.69       959\n",
      "weighted avg       0.78      0.80      0.78       959\n",
      "\n"
     ]
    },
    {
     "data": {
      "image/png": "[encoded data removed]",
      "text/plain": [
       "<Figure size 432x288 with 2 Axes>"
      ]
     },
     "metadata": {
      "needs_background": "light"
     },
     "output_type": "display_data"
    },
    {
     "name": "stdout",
     "output_type": "stream",
     "text": [
      "tree accuracy =  0.6976016684045881\n",
      "              precision    recall  f1-score   support\n",
      "\n",
      "       alive       0.81      0.78      0.79       716\n",
      "       death       0.41      0.47      0.44       243\n",
      "\n",
      "    accuracy                           0.70       959\n",
      "   macro avg       0.61      0.62      0.62       959\n",
      "weighted avg       0.71      0.70      0.70       959\n",
      "\n"
     ]
    }
   ],
   "source": [
    "rf_clf=RandomForestClassifier(max_leaf_nodes=16,n_estimators=24 )\n",
    "pipeline.set_params(estimator=rf_clf)\n",
    "prediction= cross_val_predict(pipeline, predictor, target, cv=cv)\n",
    "random_forest_acc=accuracy_score(target, prediction)\n",
    "cm = confusion_matrix(target, prediction, labels=label_order)\n",
    "print('random forest accuracy = ',random_forest_acc)\n",
    "plot_confusion_matrix(cm, classes=label_names, title='random forest')\n",
    "plt.show()\n",
    "print(classification_report(target, prediction, target_names=label_names))\n",
    "\n",
    "\n",
    "cm_tree = confusion_matrix(target, tree_prediction, labels=label_order)\n",
    "plot_confusion_matrix(cm_tree, classes=label_names, title='tree')\n",
    "plt.show()\n",
    "print('tree accuracy = ',acc_tree)\n",
    "print(classification_report(target, tree_prediction, target_names=label_names))"
   ]
  },
  {
   "attachments": {},
   "cell_type": "markdown",
   "id": "943b0bf9",
   "metadata": {},
   "source": [
    " Max_features=sqrt, Max_leaf_nodes=16 ,n_estimators=24 인 경우 성능이 최대가 된다."
   ]
  },
  {
   "cell_type": "markdown",
   "id": "249fe8b0",
   "metadata": {},
   "source": [
    "###  cost maxtrix \n"
   ]
  },
  {
   "attachments": {},
   "cell_type": "markdown",
   "id": "41e3d3ac",
   "metadata": {},
   "source": [
    "Death를 alive로 예측한 경우 100 alive를 death로 예측한 경우 1로 하여 cost_matrix를 만들고 학습 시킨다.\n",
    "\n",
    "Grid_search scoring에 cost_score를 적용\n",
    "\n",
    "정확도는 줄었지만 사망에 대한 recall은 향상되었다.\n"
   ]
  },
  {
   "cell_type": "code",
   "execution_count": 168,
   "id": "4fbb3fa7",
   "metadata": {},
   "outputs": [],
   "source": [
    "from sklearn.metrics import make_scorer\n",
    "def cost_function(y_true, y_pred): \n",
    "    cm = confusion_matrix(y_true, y_pred, labels=label_order)\n",
    "    return cm[1][0] * 100 + cm[0][1] * 1"
   ]
  },
  {
   "cell_type": "code",
   "execution_count": 175,
   "id": "c1062e6f",
   "metadata": {},
   "outputs": [
    {
     "name": "stdout",
     "output_type": "stream",
     "text": [
      "Optimised Parameters: {'estimator__criterion': 'gini', 'estimator__max_depth': 2, 'estimator__min_samples_split': 2}\n"
     ]
    },
    {
     "data": {
      "image/png": "[encoded data removed]",
      "text/plain": [
       "<Figure size 432x288 with 2 Axes>"
      ]
     },
     "metadata": {
      "needs_background": "light"
     },
     "output_type": "display_data"
    },
    {
     "name": "stdout",
     "output_type": "stream",
     "text": [
      "optimized tree accuracy =  0.821689259645464 cost :  15714\n",
      "              precision    recall  f1-score   support\n",
      "\n",
      "       alive       0.82      0.98      0.89       716\n",
      "       death       0.86      0.35      0.50       243\n",
      "\n",
      "    accuracy                           0.82       959\n",
      "   macro avg       0.84      0.67      0.70       959\n",
      "weighted avg       0.83      0.82      0.79       959\n",
      "\n"
     ]
    }
   ],
   "source": [
    "params={'estimator__criterion': ('gini', 'entropy'),\n",
    "'estimator__max_depth': [2, 3, 4, 5, None],\n",
    "'estimator__min_samples_split' :[1,2,3,4]}\n",
    "\n",
    "tree1=DecisionTreeClassifier()\n",
    "pipeline.set_params(estimator=tree1)\n",
    "grid_search_estimator=GridSearchCV(pipeline,params,cv=cv)\n",
    "prediction = cross_val_predict(grid_search_estimator,predictor, target, cv=cv )\n",
    "optimized_tree_acc = accuracy_score(target, prediction)\n",
    "grid_search_estimator.fit(predictor, target)\n",
    "\n",
    "print(\"Optimised Parameters: {}\".format(grid_search_estimator.best_params_))\n",
    "cm = confusion_matrix(target, prediction, labels=label_order)\n",
    "\n",
    "\n",
    "plot_confusion_matrix(cm, classes=label_names, title='tree with best params')\n",
    "plt.show()\n",
    "print('optimized tree accuracy = ',optimized_tree_acc,'cost : ',cost_function(target,prediction))\n",
    "print(classification_report(target, prediction, target_names=label_names))\n",
    "\n"
   ]
  },
  {
   "cell_type": "code",
   "execution_count": 178,
   "id": "e81d0645",
   "metadata": {},
   "outputs": [
    {
     "name": "stdout",
     "output_type": "stream",
     "text": [
      "0.7111574556830031\n",
      "Optimised Parameters: {'estimator__criterion': 'gini', 'estimator__max_depth': 6, 'estimator__min_samples_split': 5} \n"
     ]
    },
    {
     "data": {
      "image/png": "[encoded data removed]",
      "text/plain": [
       "<Figure size 432x288 with 2 Axes>"
      ]
     },
     "metadata": {
      "needs_background": "light"
     },
     "output_type": "display_data"
    },
    {
     "name": "stdout",
     "output_type": "stream",
     "text": [
      "cost tree accuracy =  0.7111574556830031 cost :  11365\n",
      "              precision    recall  f1-score   support\n",
      "\n",
      "       alive       0.83      0.77      0.80       716\n",
      "       death       0.44      0.54      0.49       243\n",
      "\n",
      "    accuracy                           0.71       959\n",
      "   macro avg       0.64      0.65      0.64       959\n",
      "weighted avg       0.73      0.71      0.72       959\n",
      "\n"
     ]
    }
   ],
   "source": [
    "cost_score = make_scorer(cost_function, greater_is_better=False)\n",
    "params={'estimator__criterion': ('gini', 'entropy'),\n",
    "'estimator__max_depth': [2, 3, 4, 5,6, None],\n",
    "'estimator__min_samples_split' :[1,2,3,4,5]}\n",
    "\n",
    "tree1=DecisionTreeClassifier()\n",
    "pipeline.set_params(estimator=tree1)\n",
    "grid_search_estimator=GridSearchCV(pipeline,params,cv=cv,scoring=cost_score)\n",
    "prediction = cross_val_predict(grid_search_estimator,predictor, target, cv=cv )\n",
    "cost_tree_acc = accuracy_score(target, prediction)\n",
    "print(cost_tree_acc )\n",
    "grid_search_estimator.fit(predictor, target)\n",
    "\n",
    "print(\"Optimised Parameters: {} \".format(grid_search_estimator.best_params_))\n",
    "cm = confusion_matrix(target, prediction, labels=label_order)\n",
    "\n",
    "\n",
    "plot_confusion_matrix(cm, classes=label_names, title='cost tree')\n",
    "plt.show()\n",
    "print('cost tree accuracy = ',cost_tree_acc,'cost : ',cost_function(target,prediction))\n",
    "print(classification_report(target, prediction, target_names=label_names))\n",
    "\n",
    "\n"
   ]
  },
  {
   "cell_type": "markdown",
   "id": "fd8bf645",
   "metadata": {},
   "source": [
    "사망으로 예측하고 생존하는 경우보다 생존으로 예측하고 사망하는 경우 보호자가 상심이 크게 될 것 같아 위의 cost 함수를 만들었습니다. "
   ]
  },
  {
   "cell_type": "markdown",
   "id": "16a0ece2",
   "metadata": {},
   "source": [
    "# 결과 및 토론\n"
   ]
  },
  {
   "cell_type": "code",
   "execution_count": 159,
   "id": "b390a606",
   "metadata": {},
   "outputs": [
    {
     "data": {
      "text/html": [
       "<div>\n",
       "<style scoped>\n",
       "    .dataframe tbody tr th:only-of-type {\n",
       "        vertical-align: middle;\n",
       "    }\n",
       "\n",
       "    .dataframe tbody tr th {\n",
       "        vertical-align: top;\n",
       "    }\n",
       "\n",
       "    .dataframe thead th {\n",
       "        text-align: right;\n",
       "    }\n",
       "</style>\n",
       "<table border=\"1\" class=\"dataframe\">\n",
       "  <thead>\n",
       "    <tr style=\"text-align: right;\">\n",
       "      <th></th>\n",
       "      <th>Model</th>\n",
       "      <th>Score</th>\n",
       "    </tr>\n",
       "  </thead>\n",
       "  <tbody>\n",
       "    <tr>\n",
       "      <th>1</th>\n",
       "      <td>optimized tree</td>\n",
       "      <td>0.821689</td>\n",
       "    </tr>\n",
       "    <tr>\n",
       "      <th>3</th>\n",
       "      <td>Gradient boosting</td>\n",
       "      <td>0.821689</td>\n",
       "    </tr>\n",
       "    <tr>\n",
       "      <th>4</th>\n",
       "      <td>Random Forest</td>\n",
       "      <td>0.795620</td>\n",
       "    </tr>\n",
       "    <tr>\n",
       "      <th>2</th>\n",
       "      <td>KNN</td>\n",
       "      <td>0.751825</td>\n",
       "    </tr>\n",
       "    <tr>\n",
       "      <th>0</th>\n",
       "      <td>base line tree</td>\n",
       "      <td>0.697602</td>\n",
       "    </tr>\n",
       "  </tbody>\n",
       "</table>\n",
       "</div>"
      ],
      "text/plain": [
       "               Model     Score\n",
       "1     optimized tree  0.821689\n",
       "3  Gradient boosting  0.821689\n",
       "4      Random Forest  0.795620\n",
       "2                KNN  0.751825\n",
       "0     base line tree  0.697602"
      ]
     },
     "execution_count": 159,
     "metadata": {},
     "output_type": "execute_result"
    }
   ],
   "source": [
    "models = pd.DataFrame({\n",
    "    'Model': ['base line tree', 'optimized tree',  \n",
    "              'KNN', 'Gradient boosting', 'Random Forest', \n",
    "              ],\n",
    "    'Score': [acc_tree,optimized_tree_acc ,knn_acc,gradient_acc,random_forest_acc]})\n",
    "models.sort_values(by='Score', ascending=False)"
   ]
  },
  {
   "cell_type": "markdown",
   "id": "eb0ba42e",
   "metadata": {},
   "source": [
    "\n",
    "최소 4%에서 최대 10%정도 성능이 개선되었는데\n",
    "\n",
    "위의 알고리즘을 제외하고 다른 알고리즘(naive bayez, SVM)을 적용해도 82%에서 성능이 개선이 되지 않는다. 몇가지 이유를 추측할 수 있다."
   ]
  },
  {
   "cell_type": "markdown",
   "id": "bfe965ae",
   "metadata": {},
   "source": [
    "### 1. 데이터의 품질이 좋지 않다.\n",
    "학습용으로 만들어진 데이터가 아니라 국가 통계 마이크로센터에서 만든 raw한 데이터로 품질이 좋지 않는 데이터로 추측된다.\n",
    "\n",
    "예를 들어 시각 데이터를 보면 논리적으로 이상한 부분이 있는데 심장정지 발생시각이 응급실 도착시각과 심장정지 목격시각보다 늦은 시각인 경우가 있었다.그리고 위에서의 다른 81.8% 나오는 예측기들의 roc 곡선이 거의 비슷하게 나오는데 이를 통해 위의 특성을 통해 완전히 분류하지 못하는 것들이 있음을 알 수 있다.\n",
    "\n",
    "그리고 데이터의 많은 속성에서 nan값이 많아 제거함으로 품질이 낮아진 것 같다.\n",
    "\n"
   ]
  },
  {
   "cell_type": "markdown",
   "id": "81973722",
   "metadata": {},
   "source": [
    "###  2. 데이터의 양이 적다. \n",
    "위에서 말한 것 처럼 nan을 제거하면서 총 데이터가 959개로 데이터의 양이 적어졌다."
   ]
  },
  {
   "cell_type": "markdown",
   "id": "4e853869",
   "metadata": {},
   "source": [
    "# 개선 방법"
   ]
  },
  {
   "cell_type": "markdown",
   "id": "9683b215",
   "metadata": {},
   "source": [
    "### 1. 더 많은 데이터와 더 많은 속성을 추가한다. \n",
    "위에서 말한 문제를 해결하는 방법\n",
    "\n",
    "처음에 과제를 진행하면서 67%대로 낮게 나와 다시 데이터 전처리를 하면서 심정지 발생후 심정지 목격에 걸린 시간을 추가시키 성능이 최대 80%로 개선을 시켰다. 그러므로 더 좋은 속성을 추가 시키면 개선이 될 것이다."
   ]
  },
  {
   "cell_type": "markdown",
   "id": "f1751420",
   "metadata": {},
   "source": [
    "### 2. 임계값 조정 "
   ]
  },
  {
   "cell_type": "markdown",
   "id": "2e5f4987",
   "metadata": {},
   "source": [
    "이진 분류 문제에서 각 클래스에 대해 확률을 가지고 판별을 하는데 임계값이 0.5를 기준으로 판별을 하는데 이 임계값을 바꿔주면 조금더 개선 할 수 있다.\n",
    "\n",
    "predict_proba메소드는 각 클레스에 대한 확률을 보여준다. 이 확률값을 구해 임계값을 조정해준다."
   ]
  },
  {
   "cell_type": "code",
   "execution_count": 172,
   "id": "c4d69800",
   "metadata": {},
   "outputs": [],
   "source": [
    "from sklearn.ensemble import StackingClassifier\n",
    "estimators = [\n",
    "    ('knn', Pipeline([ ('preprocessing', preprocessor), ('estimator', KNeighborsClassifier(n_neighbors=115))])),\n",
    "    ('tree', Pipeline([ ('preprocessing', preprocessor), ('estimator', DecisionTreeClassifier(max_depth=2,min_samples_split=2))])),\n",
    "    ('boosting', Pipeline([ ('preprocessing', preprocessor), ('estimator', GradientBoostingClassifier(max_depth=2,n_estimators=1))])),\n",
    "    ('gaussian', Pipeline([ ('preprocessing', preprocessor), ('estimator', GaussianNB())])),\n",
    "    ('svc', Pipeline([ ('preprocessing', preprocessor), ('estimator',SVC())]))\n",
    " ]\n",
    "clf = StackingClassifier(\n",
    "    estimators=estimators, final_estimator=LogisticRegression(),cv=cv)\n",
    "clf.fit_transform(predictor,target)\n",
    "\n",
    "prediction =clf.predict_proba(predictor)"
   ]
  },
  {
   "cell_type": "code",
   "execution_count": 174,
   "id": "ab917f14",
   "metadata": {},
   "outputs": [
    {
     "name": "stdout",
     "output_type": "stream",
     "text": [
      "best_score =  0.8342022940563086 best thresholds =  0.23\n",
      "Optimised stacking with accuracy of 0.8342022940563086\n"
     ]
    },
    {
     "data": {
      "image/png": "[encoded data removed]",
      "text/plain": [
       "<Figure size 432x288 with 2 Axes>"
      ]
     },
     "metadata": {
      "needs_background": "light"
     },
     "output_type": "display_data"
    },
    {
     "name": "stdout",
     "output_type": "stream",
     "text": [
      "              precision    recall  f1-score   support\n",
      "\n",
      "       alive       0.83      0.98      0.90       716\n",
      "       death       0.86      0.42      0.56       243\n",
      "\n",
      "    accuracy                           0.83       959\n",
      "   macro avg       0.84      0.70      0.73       959\n",
      "weighted avg       0.84      0.83      0.81       959\n",
      "\n"
     ]
    }
   ],
   "source": [
    "best_thresholds=0\n",
    "best_score=0\n",
    "for thresholds in np.arange(0,1,0.01):\n",
    "    aa=[]\n",
    "    for i in prediction:\n",
    "\n",
    "        if i[1]>thresholds:\n",
    "            aa.append(1)\n",
    "        else :\n",
    "            aa.append(0)\n",
    "    acc = accuracy_score(target, aa)\n",
    "    if acc>best_score:\n",
    "        best_score=acc\n",
    "        best_thresholds=thresholds\n",
    "print(\"best_score = \",best_score,'best thresholds = ',best_thresholds)\n",
    "aa=[]\n",
    "for i in prediction:\n",
    "\n",
    "    if i[1]>best_thresholds:\n",
    "        aa.append(1)\n",
    "    else :\n",
    "        aa.append(0)\n",
    "acc = accuracy_score(target, aa)\n",
    "cm = confusion_matrix(target, aa, labels=label_order)\n",
    "print(\"Optimised stacking with accuracy of {}\".format(acc))\n",
    "plot_confusion_matrix(cm, classes=label_names, title='Stacking')\n",
    "plt.show()\n",
    "print(classification_report(target, aa, target_names=label_names))"
   ]
  },
  {
   "cell_type": "markdown",
   "id": "c06e67a3",
   "metadata": {},
   "source": [
    "여기서 한가지 오류가 있는데 test_set이 포함된 결과로 임계값을 구했음으로 데이터셋에 대해 과적합이 되었다.\n",
    "\n",
    "과적합이 없게 하려면 test validation train set으로 나눠서 계산을 구해야 한다. 이렇게 하기에는 데이터셋의 크기가 적어 위의 방법처럼 구현했습니다."
   ]
  },
  {
   "cell_type": "markdown",
   "id": "72430f6d",
   "metadata": {},
   "source": [
    "# 참고한 정보"
   ]
  },
  {
   "cell_type": "markdown",
   "id": "aa275435",
   "metadata": {},
   "source": [
    "조기 종료에 관한 정보는 핸즈온 머신러닝 4장(192페이지)에서 참고했습니다.\n",
    "\n",
    "그리고 임계값 조정에 관한 것도 핸즈온 머신러닝 3장(138페이지)에서 참고했습니다."
   ]
  }
 ],
 "metadata": {
  "kernelspec": {
   "display_name": "Python 3",
   "language": "python",
   "name": "python3"
  },
  "language_info": {
   "codemirror_mode": {
    "name": "ipython",
    "version": 3
   },
   "file_extension": ".py",
   "mimetype": "text/x-python",
   "name": "python",
   "nbconvert_exporter": "python",
   "pygments_lexer": "ipython3",
   "version": "3.8.8"
  }
 },
 "nbformat": 4,
 "nbformat_minor": 5
}
